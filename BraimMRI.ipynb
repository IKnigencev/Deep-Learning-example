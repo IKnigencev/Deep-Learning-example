{
  "cells": [
    {
      "cell_type": "markdown",
      "metadata": {
        "id": "view-in-github",
        "colab_type": "text"
      },
      "source": [
        "<a href=\"https://colab.research.google.com/github/IKnigencev/Deep-Learning-example/blob/main/BraimMRI.ipynb\" target=\"_parent\"><img src=\"https://colab.research.google.com/assets/colab-badge.svg\" alt=\"Open In Colab\"/></a>"
      ]
    },
    {
      "cell_type": "markdown",
      "metadata": {
        "id": "hubQbh9jbV3X"
      },
      "source": [
        "# **Проект по распознованию опухоли мозга**\n",
        "# Dataset взят с Kaggle \n",
        "https://www.kaggle.com/navoneel/brain-mri-images-for-brain-tumor-detection"
      ]
    },
    {
      "cell_type": "markdown",
      "source": [
        "## Загрузка датасета"
      ],
      "metadata": {
        "id": "qYYjoBR8yojT"
      }
    },
    {
      "cell_type": "markdown",
      "metadata": {
        "id": "ris2QaUu8_LO"
      },
      "source": [
        "**Подключение к google disk**"
      ]
    },
    {
      "cell_type": "code",
      "execution_count": null,
      "metadata": {
        "colab": {
          "base_uri": "https://localhost:8080/"
        },
        "id": "O5mXJuigdNWX",
        "outputId": "bbaed196-48bb-42ab-be00-36378f3afaa4"
      },
      "outputs": [
        {
          "output_type": "stream",
          "name": "stdout",
          "text": [
            "Mounted at /content/drive\n"
          ]
        }
      ],
      "source": [
        "from google.colab import drive  # Импорт библиотеки из колаба для подключения к вашему google disk \n",
        "drive.mount('/content/drive')   # Подкючения google disk к локальной директориии ноутбука "
      ]
    },
    {
      "cell_type": "markdown",
      "metadata": {
        "id": "qft3LhUB9bEm"
      },
      "source": [
        "**Загрузка kaggle.json с компьютера, скачать его нужно в своем профиле на kaggle**"
      ]
    },
    {
      "cell_type": "code",
      "execution_count": null,
      "metadata": {
        "colab": {
          "base_uri": "https://localhost:8080/",
          "height": 94,
          "resources": {
            "http://localhost:8080/nbextensions/google.colab/files.js": {
              "data": "Ly8gQ29weXJpZ2h0IDIwMTcgR29vZ2xlIExMQwovLwovLyBMaWNlbnNlZCB1bmRlciB0aGUgQXBhY2hlIExpY2Vuc2UsIFZlcnNpb24gMi4wICh0aGUgIkxpY2Vuc2UiKTsKLy8geW91IG1heSBub3QgdXNlIHRoaXMgZmlsZSBleGNlcHQgaW4gY29tcGxpYW5jZSB3aXRoIHRoZSBMaWNlbnNlLgovLyBZb3UgbWF5IG9idGFpbiBhIGNvcHkgb2YgdGhlIExpY2Vuc2UgYXQKLy8KLy8gICAgICBodHRwOi8vd3d3LmFwYWNoZS5vcmcvbGljZW5zZXMvTElDRU5TRS0yLjAKLy8KLy8gVW5sZXNzIHJlcXVpcmVkIGJ5IGFwcGxpY2FibGUgbGF3IG9yIGFncmVlZCB0byBpbiB3cml0aW5nLCBzb2Z0d2FyZQovLyBkaXN0cmlidXRlZCB1bmRlciB0aGUgTGljZW5zZSBpcyBkaXN0cmlidXRlZCBvbiBhbiAiQVMgSVMiIEJBU0lTLAovLyBXSVRIT1VUIFdBUlJBTlRJRVMgT1IgQ09ORElUSU9OUyBPRiBBTlkgS0lORCwgZWl0aGVyIGV4cHJlc3Mgb3IgaW1wbGllZC4KLy8gU2VlIHRoZSBMaWNlbnNlIGZvciB0aGUgc3BlY2lmaWMgbGFuZ3VhZ2UgZ292ZXJuaW5nIHBlcm1pc3Npb25zIGFuZAovLyBsaW1pdGF0aW9ucyB1bmRlciB0aGUgTGljZW5zZS4KCi8qKgogKiBAZmlsZW92ZXJ2aWV3IEhlbHBlcnMgZm9yIGdvb2dsZS5jb2xhYiBQeXRob24gbW9kdWxlLgogKi8KKGZ1bmN0aW9uKHNjb3BlKSB7CmZ1bmN0aW9uIHNwYW4odGV4dCwgc3R5bGVBdHRyaWJ1dGVzID0ge30pIHsKICBjb25zdCBlbGVtZW50ID0gZG9jdW1lbnQuY3JlYXRlRWxlbWVudCgnc3BhbicpOwogIGVsZW1lbnQudGV4dENvbnRlbnQgPSB0ZXh0OwogIGZvciAoY29uc3Qga2V5IG9mIE9iamVjdC5rZXlzKHN0eWxlQXR0cmlidXRlcykpIHsKICAgIGVsZW1lbnQuc3R5bGVba2V5XSA9IHN0eWxlQXR0cmlidXRlc1trZXldOwogIH0KICByZXR1cm4gZWxlbWVudDsKfQoKLy8gTWF4IG51bWJlciBvZiBieXRlcyB3aGljaCB3aWxsIGJlIHVwbG9hZGVkIGF0IGEgdGltZS4KY29uc3QgTUFYX1BBWUxPQURfU0laRSA9IDEwMCAqIDEwMjQ7CgpmdW5jdGlvbiBfdXBsb2FkRmlsZXMoaW5wdXRJZCwgb3V0cHV0SWQpIHsKICBjb25zdCBzdGVwcyA9IHVwbG9hZEZpbGVzU3RlcChpbnB1dElkLCBvdXRwdXRJZCk7CiAgY29uc3Qgb3V0cHV0RWxlbWVudCA9IGRvY3VtZW50LmdldEVsZW1lbnRCeUlkKG91dHB1dElkKTsKICAvLyBDYWNoZSBzdGVwcyBvbiB0aGUgb3V0cHV0RWxlbWVudCB0byBtYWtlIGl0IGF2YWlsYWJsZSBmb3IgdGhlIG5leHQgY2FsbAogIC8vIHRvIHVwbG9hZEZpbGVzQ29udGludWUgZnJvbSBQeXRob24uCiAgb3V0cHV0RWxlbWVudC5zdGVwcyA9IHN0ZXBzOwoKICByZXR1cm4gX3VwbG9hZEZpbGVzQ29udGludWUob3V0cHV0SWQpOwp9CgovLyBUaGlzIGlzIHJvdWdobHkgYW4gYXN5bmMgZ2VuZXJhdG9yIChub3Qgc3VwcG9ydGVkIGluIHRoZSBicm93c2VyIHlldCksCi8vIHdoZXJlIHRoZXJlIGFyZSBtdWx0aXBsZSBhc3luY2hyb25vdXMgc3RlcHMgYW5kIHRoZSBQeXRob24gc2lkZSBpcyBnb2luZwovLyB0byBwb2xsIGZvciBjb21wbGV0aW9uIG9mIGVhY2ggc3RlcC4KLy8gVGhpcyB1c2VzIGEgUHJvbWlzZSB0byBibG9jayB0aGUgcHl0aG9uIHNpZGUgb24gY29tcGxldGlvbiBvZiBlYWNoIHN0ZXAsCi8vIHRoZW4gcGFzc2VzIHRoZSByZXN1bHQgb2YgdGhlIHByZXZpb3VzIHN0ZXAgYXMgdGhlIGlucHV0IHRvIHRoZSBuZXh0IHN0ZXAuCmZ1bmN0aW9uIF91cGxvYWRGaWxlc0NvbnRpbnVlKG91dHB1dElkKSB7CiAgY29uc3Qgb3V0cHV0RWxlbWVudCA9IGRvY3VtZW50LmdldEVsZW1lbnRCeUlkKG91dHB1dElkKTsKICBjb25zdCBzdGVwcyA9IG91dHB1dEVsZW1lbnQuc3RlcHM7CgogIGNvbnN0IG5leHQgPSBzdGVwcy5uZXh0KG91dHB1dEVsZW1lbnQubGFzdFByb21pc2VWYWx1ZSk7CiAgcmV0dXJuIFByb21pc2UucmVzb2x2ZShuZXh0LnZhbHVlLnByb21pc2UpLnRoZW4oKHZhbHVlKSA9PiB7CiAgICAvLyBDYWNoZSB0aGUgbGFzdCBwcm9taXNlIHZhbHVlIHRvIG1ha2UgaXQgYXZhaWxhYmxlIHRvIHRoZSBuZXh0CiAgICAvLyBzdGVwIG9mIHRoZSBnZW5lcmF0b3IuCiAgICBvdXRwdXRFbGVtZW50Lmxhc3RQcm9taXNlVmFsdWUgPSB2YWx1ZTsKICAgIHJldHVybiBuZXh0LnZhbHVlLnJlc3BvbnNlOwogIH0pOwp9CgovKioKICogR2VuZXJhdG9yIGZ1bmN0aW9uIHdoaWNoIGlzIGNhbGxlZCBiZXR3ZWVuIGVhY2ggYXN5bmMgc3RlcCBvZiB0aGUgdXBsb2FkCiAqIHByb2Nlc3MuCiAqIEBwYXJhbSB7c3RyaW5nfSBpbnB1dElkIEVsZW1lbnQgSUQgb2YgdGhlIGlucHV0IGZpbGUgcGlja2VyIGVsZW1lbnQuCiAqIEBwYXJhbSB7c3RyaW5nfSBvdXRwdXRJZCBFbGVtZW50IElEIG9mIHRoZSBvdXRwdXQgZGlzcGxheS4KICogQHJldHVybiB7IUl0ZXJhYmxlPCFPYmplY3Q+fSBJdGVyYWJsZSBvZiBuZXh0IHN0ZXBzLgogKi8KZnVuY3Rpb24qIHVwbG9hZEZpbGVzU3RlcChpbnB1dElkLCBvdXRwdXRJZCkgewogIGNvbnN0IGlucHV0RWxlbWVudCA9IGRvY3VtZW50LmdldEVsZW1lbnRCeUlkKGlucHV0SWQpOwogIGlucHV0RWxlbWVudC5kaXNhYmxlZCA9IGZhbHNlOwoKICBjb25zdCBvdXRwdXRFbGVtZW50ID0gZG9jdW1lbnQuZ2V0RWxlbWVudEJ5SWQob3V0cHV0SWQpOwogIG91dHB1dEVsZW1lbnQuaW5uZXJIVE1MID0gJyc7CgogIGNvbnN0IHBpY2tlZFByb21pc2UgPSBuZXcgUHJvbWlzZSgocmVzb2x2ZSkgPT4gewogICAgaW5wdXRFbGVtZW50LmFkZEV2ZW50TGlzdGVuZXIoJ2NoYW5nZScsIChlKSA9PiB7CiAgICAgIHJlc29sdmUoZS50YXJnZXQuZmlsZXMpOwogICAgfSk7CiAgfSk7CgogIGNvbnN0IGNhbmNlbCA9IGRvY3VtZW50LmNyZWF0ZUVsZW1lbnQoJ2J1dHRvbicpOwogIGlucHV0RWxlbWVudC5wYXJlbnRFbGVtZW50LmFwcGVuZENoaWxkKGNhbmNlbCk7CiAgY2FuY2VsLnRleHRDb250ZW50ID0gJ0NhbmNlbCB1cGxvYWQnOwogIGNvbnN0IGNhbmNlbFByb21pc2UgPSBuZXcgUHJvbWlzZSgocmVzb2x2ZSkgPT4gewogICAgY2FuY2VsLm9uY2xpY2sgPSAoKSA9PiB7CiAgICAgIHJlc29sdmUobnVsbCk7CiAgICB9OwogIH0pOwoKICAvLyBXYWl0IGZvciB0aGUgdXNlciB0byBwaWNrIHRoZSBmaWxlcy4KICBjb25zdCBmaWxlcyA9IHlpZWxkIHsKICAgIHByb21pc2U6IFByb21pc2UucmFjZShbcGlja2VkUHJvbWlzZSwgY2FuY2VsUHJvbWlzZV0pLAogICAgcmVzcG9uc2U6IHsKICAgICAgYWN0aW9uOiAnc3RhcnRpbmcnLAogICAgfQogIH07CgogIGNhbmNlbC5yZW1vdmUoKTsKCiAgLy8gRGlzYWJsZSB0aGUgaW5wdXQgZWxlbWVudCBzaW5jZSBmdXJ0aGVyIHBpY2tzIGFyZSBub3QgYWxsb3dlZC4KICBpbnB1dEVsZW1lbnQuZGlzYWJsZWQgPSB0cnVlOwoKICBpZiAoIWZpbGVzKSB7CiAgICByZXR1cm4gewogICAgICByZXNwb25zZTogewogICAgICAgIGFjdGlvbjogJ2NvbXBsZXRlJywKICAgICAgfQogICAgfTsKICB9CgogIGZvciAoY29uc3QgZmlsZSBvZiBmaWxlcykgewogICAgY29uc3QgbGkgPSBkb2N1bWVudC5jcmVhdGVFbGVtZW50KCdsaScpOwogICAgbGkuYXBwZW5kKHNwYW4oZmlsZS5uYW1lLCB7Zm9udFdlaWdodDogJ2JvbGQnfSkpOwogICAgbGkuYXBwZW5kKHNwYW4oCiAgICAgICAgYCgke2ZpbGUudHlwZSB8fCAnbi9hJ30pIC0gJHtmaWxlLnNpemV9IGJ5dGVzLCBgICsKICAgICAgICBgbGFzdCBtb2RpZmllZDogJHsKICAgICAgICAgICAgZmlsZS5sYXN0TW9kaWZpZWREYXRlID8gZmlsZS5sYXN0TW9kaWZpZWREYXRlLnRvTG9jYWxlRGF0ZVN0cmluZygpIDoKICAgICAgICAgICAgICAgICAgICAgICAgICAgICAgICAgICAgJ24vYSd9IC0gYCkpOwogICAgY29uc3QgcGVyY2VudCA9IHNwYW4oJzAlIGRvbmUnKTsKICAgIGxpLmFwcGVuZENoaWxkKHBlcmNlbnQpOwoKICAgIG91dHB1dEVsZW1lbnQuYXBwZW5kQ2hpbGQobGkpOwoKICAgIGNvbnN0IGZpbGVEYXRhUHJvbWlzZSA9IG5ldyBQcm9taXNlKChyZXNvbHZlKSA9PiB7CiAgICAgIGNvbnN0IHJlYWRlciA9IG5ldyBGaWxlUmVhZGVyKCk7CiAgICAgIHJlYWRlci5vbmxvYWQgPSAoZSkgPT4gewogICAgICAgIHJlc29sdmUoZS50YXJnZXQucmVzdWx0KTsKICAgICAgfTsKICAgICAgcmVhZGVyLnJlYWRBc0FycmF5QnVmZmVyKGZpbGUpOwogICAgfSk7CiAgICAvLyBXYWl0IGZvciB0aGUgZGF0YSB0byBiZSByZWFkeS4KICAgIGxldCBmaWxlRGF0YSA9IHlpZWxkIHsKICAgICAgcHJvbWlzZTogZmlsZURhdGFQcm9taXNlLAogICAgICByZXNwb25zZTogewogICAgICAgIGFjdGlvbjogJ2NvbnRpbnVlJywKICAgICAgfQogICAgfTsKCiAgICAvLyBVc2UgYSBjaHVua2VkIHNlbmRpbmcgdG8gYXZvaWQgbWVzc2FnZSBzaXplIGxpbWl0cy4gU2VlIGIvNjIxMTU2NjAuCiAgICBsZXQgcG9zaXRpb24gPSAwOwogICAgZG8gewogICAgICBjb25zdCBsZW5ndGggPSBNYXRoLm1pbihmaWxlRGF0YS5ieXRlTGVuZ3RoIC0gcG9zaXRpb24sIE1BWF9QQVlMT0FEX1NJWkUpOwogICAgICBjb25zdCBjaHVuayA9IG5ldyBVaW50OEFycmF5KGZpbGVEYXRhLCBwb3NpdGlvbiwgbGVuZ3RoKTsKICAgICAgcG9zaXRpb24gKz0gbGVuZ3RoOwoKICAgICAgY29uc3QgYmFzZTY0ID0gYnRvYShTdHJpbmcuZnJvbUNoYXJDb2RlLmFwcGx5KG51bGwsIGNodW5rKSk7CiAgICAgIHlpZWxkIHsKICAgICAgICByZXNwb25zZTogewogICAgICAgICAgYWN0aW9uOiAnYXBwZW5kJywKICAgICAgICAgIGZpbGU6IGZpbGUubmFtZSwKICAgICAgICAgIGRhdGE6IGJhc2U2NCwKICAgICAgICB9LAogICAgICB9OwoKICAgICAgbGV0IHBlcmNlbnREb25lID0gZmlsZURhdGEuYnl0ZUxlbmd0aCA9PT0gMCA/CiAgICAgICAgICAxMDAgOgogICAgICAgICAgTWF0aC5yb3VuZCgocG9zaXRpb24gLyBmaWxlRGF0YS5ieXRlTGVuZ3RoKSAqIDEwMCk7CiAgICAgIHBlcmNlbnQudGV4dENvbnRlbnQgPSBgJHtwZXJjZW50RG9uZX0lIGRvbmVgOwoKICAgIH0gd2hpbGUgKHBvc2l0aW9uIDwgZmlsZURhdGEuYnl0ZUxlbmd0aCk7CiAgfQoKICAvLyBBbGwgZG9uZS4KICB5aWVsZCB7CiAgICByZXNwb25zZTogewogICAgICBhY3Rpb246ICdjb21wbGV0ZScsCiAgICB9CiAgfTsKfQoKc2NvcGUuZ29vZ2xlID0gc2NvcGUuZ29vZ2xlIHx8IHt9OwpzY29wZS5nb29nbGUuY29sYWIgPSBzY29wZS5nb29nbGUuY29sYWIgfHwge307CnNjb3BlLmdvb2dsZS5jb2xhYi5fZmlsZXMgPSB7CiAgX3VwbG9hZEZpbGVzLAogIF91cGxvYWRGaWxlc0NvbnRpbnVlLAp9Owp9KShzZWxmKTsK",
              "headers": [
                [
                  "content-type",
                  "application/javascript"
                ]
              ],
              "ok": true,
              "status": 200,
              "status_text": ""
            }
          }
        },
        "id": "uOOpOBFCcoWG",
        "outputId": "8947445c-b27c-490e-c4f3-2d555cf72d79"
      },
      "outputs": [
        {
          "output_type": "display_data",
          "data": {
            "text/plain": [
              "<IPython.core.display.HTML object>"
            ],
            "text/html": [
              "\n",
              "     <input type=\"file\" id=\"files-6edfd54b-f9a0-41d3-821d-e53839c925e0\" name=\"files[]\" multiple disabled\n",
              "        style=\"border:none\" />\n",
              "     <output id=\"result-6edfd54b-f9a0-41d3-821d-e53839c925e0\">\n",
              "      Upload widget is only available when the cell has been executed in the\n",
              "      current browser session. Please rerun this cell to enable.\n",
              "      </output>\n",
              "      <script src=\"/nbextensions/google.colab/files.js\"></script> "
            ]
          },
          "metadata": {}
        },
        {
          "output_type": "stream",
          "name": "stdout",
          "text": [
            "Saving kaggle.json to kaggle.json\n"
          ]
        },
        {
          "output_type": "execute_result",
          "data": {
            "text/plain": [
              "{'kaggle.json': b'{\"username\":\"ivanknihencev\",\"key\":\"3dad09d80e2f8395768873599ff2dbc6\"}'}"
            ]
          },
          "metadata": {},
          "execution_count": 3
        }
      ],
      "source": [
        "from google.colab import files  # Импорт бибилотеки для загрузки файлов с компьютера\n",
        "files.upload()                  # Функиця загрузки файлов с компьютера, ниже появится кнопка выбора файла"
      ]
    },
    {
      "cell_type": "markdown",
      "metadata": {
        "id": "4COmzZnt-tO2"
      },
      "source": [
        "**Подключение к директории kaggle**"
      ]
    },
    {
      "cell_type": "code",
      "execution_count": null,
      "metadata": {
        "id": "TViuoG0SelSx"
      },
      "outputs": [],
      "source": [
        " ! pip install -q kaggle \n",
        " !mkdir ~/.kaggle\n",
        " !cp kaggle.json ~/.kaggle/\n",
        " !chmod 600 ~/.kaggle/kaggle.json"
      ]
    },
    {
      "cell_type": "markdown",
      "metadata": {
        "id": "P-8mAds_-zi2"
      },
      "source": [
        "**Загрузка данных из kaggle, ссылку на загрузку данных можно найти на странице датасета**"
      ]
    },
    {
      "cell_type": "code",
      "execution_count": null,
      "metadata": {
        "colab": {
          "base_uri": "https://localhost:8080/"
        },
        "id": "skOHhtFWbPnr",
        "outputId": "00559f41-ed5e-4ac2-fb4b-f7d45a677a79"
      },
      "outputs": [
        {
          "output_type": "stream",
          "name": "stdout",
          "text": [
            "brain-mri-images-for-brain-tumor-detection.zip: Skipping, found more recently modified local copy (use --force to force download)\n"
          ]
        }
      ],
      "source": [
        "!kaggle datasets download -d navoneel/brain-mri-images-for-brain-tumor-detection"
      ]
    },
    {
      "cell_type": "markdown",
      "metadata": {
        "id": "jGwBMIfR_QHQ"
      },
      "source": [
        "**Данные скачиваются в zip файле, ниже происоходит распаковка данных в папку train**"
      ]
    },
    {
      "cell_type": "code",
      "execution_count": null,
      "metadata": {
        "colab": {
          "base_uri": "https://localhost:8080/"
        },
        "id": "ssZ-c0nUhKTV",
        "outputId": "b3e10ad1-b7f0-4a8a-eb5c-a71eed024737"
      },
      "outputs": [
        {
          "output_type": "stream",
          "name": "stdout",
          "text": [
            "Archive:  brain-mri-images-for-brain-tumor-detection.zip\n",
            "  inflating: train/brain_tumor_dataset/no/1 no.jpeg  \n",
            "  inflating: train/brain_tumor_dataset/no/10 no.jpg  \n",
            "  inflating: train/brain_tumor_dataset/no/11 no.jpg  \n",
            "  inflating: train/brain_tumor_dataset/no/12 no.jpg  \n",
            "  inflating: train/brain_tumor_dataset/no/13 no.jpg  \n",
            "  inflating: train/brain_tumor_dataset/no/14 no.jpg  \n",
            "  inflating: train/brain_tumor_dataset/no/15 no.jpg  \n",
            "  inflating: train/brain_tumor_dataset/no/17 no.jpg  \n",
            "  inflating: train/brain_tumor_dataset/no/18 no.jpg  \n",
            "  inflating: train/brain_tumor_dataset/no/19 no.jpg  \n",
            "  inflating: train/brain_tumor_dataset/no/2 no.jpeg  \n",
            "  inflating: train/brain_tumor_dataset/no/20 no.jpg  \n",
            "  inflating: train/brain_tumor_dataset/no/21 no.jpg  \n",
            "  inflating: train/brain_tumor_dataset/no/22 no.jpg  \n",
            "  inflating: train/brain_tumor_dataset/no/23 no.jpg  \n",
            "  inflating: train/brain_tumor_dataset/no/24 no.jpg  \n",
            "  inflating: train/brain_tumor_dataset/no/25 no.jpg  \n",
            "  inflating: train/brain_tumor_dataset/no/26 no.jpg  \n",
            "  inflating: train/brain_tumor_dataset/no/27 no.jpg  \n",
            "  inflating: train/brain_tumor_dataset/no/28 no.jpg  \n",
            "  inflating: train/brain_tumor_dataset/no/29 no.jpg  \n",
            "  inflating: train/brain_tumor_dataset/no/3 no.jpg  \n",
            "  inflating: train/brain_tumor_dataset/no/30 no.jpg  \n",
            "  inflating: train/brain_tumor_dataset/no/31 no.jpg  \n",
            "  inflating: train/brain_tumor_dataset/no/32 no.jpg  \n",
            "  inflating: train/brain_tumor_dataset/no/33 no.jpg  \n",
            "  inflating: train/brain_tumor_dataset/no/34 no.jpg  \n",
            "  inflating: train/brain_tumor_dataset/no/35 no.jpg  \n",
            "  inflating: train/brain_tumor_dataset/no/36 no.jpg  \n",
            "  inflating: train/brain_tumor_dataset/no/37 no.jpg  \n",
            "  inflating: train/brain_tumor_dataset/no/38 no.jpg  \n",
            "  inflating: train/brain_tumor_dataset/no/39 no.jpg  \n",
            "  inflating: train/brain_tumor_dataset/no/4 no.jpg  \n",
            "  inflating: train/brain_tumor_dataset/no/40 no.jpg  \n",
            "  inflating: train/brain_tumor_dataset/no/41 no.jpg  \n",
            "  inflating: train/brain_tumor_dataset/no/42 no.jpg  \n",
            "  inflating: train/brain_tumor_dataset/no/43 no.jpg  \n",
            "  inflating: train/brain_tumor_dataset/no/44no.jpg  \n",
            "  inflating: train/brain_tumor_dataset/no/45 no.jpg  \n",
            "  inflating: train/brain_tumor_dataset/no/46 no.jpg  \n",
            "  inflating: train/brain_tumor_dataset/no/47 no.jpg  \n",
            "  inflating: train/brain_tumor_dataset/no/48 no.jpeg  \n",
            "  inflating: train/brain_tumor_dataset/no/49 no.jpg  \n",
            "  inflating: train/brain_tumor_dataset/no/5 no.jpg  \n",
            "  inflating: train/brain_tumor_dataset/no/50 no.jpg  \n",
            "  inflating: train/brain_tumor_dataset/no/6 no.jpg  \n",
            "  inflating: train/brain_tumor_dataset/no/7 no.jpg  \n",
            "  inflating: train/brain_tumor_dataset/no/8 no.jpg  \n",
            "  inflating: train/brain_tumor_dataset/no/9 no.jpg  \n",
            "  inflating: train/brain_tumor_dataset/no/N1.JPG  \n",
            "  inflating: train/brain_tumor_dataset/no/N11.jpg  \n",
            "  inflating: train/brain_tumor_dataset/no/N15.jpg  \n",
            "  inflating: train/brain_tumor_dataset/no/N16.jpg  \n",
            "  inflating: train/brain_tumor_dataset/no/N17.jpg  \n",
            "  inflating: train/brain_tumor_dataset/no/N19.JPG  \n",
            "  inflating: train/brain_tumor_dataset/no/N2.JPG  \n",
            "  inflating: train/brain_tumor_dataset/no/N20.JPG  \n",
            "  inflating: train/brain_tumor_dataset/no/N21.jpg  \n",
            "  inflating: train/brain_tumor_dataset/no/N22.JPG  \n",
            "  inflating: train/brain_tumor_dataset/no/N26.JPG  \n",
            "  inflating: train/brain_tumor_dataset/no/N3.jpg  \n",
            "  inflating: train/brain_tumor_dataset/no/N5.jpg  \n",
            "  inflating: train/brain_tumor_dataset/no/N6.jpg  \n",
            "  inflating: train/brain_tumor_dataset/no/No11.jpg  \n",
            "  inflating: train/brain_tumor_dataset/no/No12.jpg  \n",
            "  inflating: train/brain_tumor_dataset/no/No13.jpg  \n",
            "  inflating: train/brain_tumor_dataset/no/No14.jpg  \n",
            "  inflating: train/brain_tumor_dataset/no/No15.jpg  \n",
            "  inflating: train/brain_tumor_dataset/no/No16.jpg  \n",
            "  inflating: train/brain_tumor_dataset/no/No17.jpg  \n",
            "  inflating: train/brain_tumor_dataset/no/No18.jpg  \n",
            "  inflating: train/brain_tumor_dataset/no/No19.jpg  \n",
            "  inflating: train/brain_tumor_dataset/no/No20.jpg  \n",
            "  inflating: train/brain_tumor_dataset/no/No21.jpg  \n",
            "  inflating: train/brain_tumor_dataset/no/No22.jpg  \n",
            "  inflating: train/brain_tumor_dataset/no/no 1.jpg  \n",
            "  inflating: train/brain_tumor_dataset/no/no 10.jpg  \n",
            "  inflating: train/brain_tumor_dataset/no/no 100.jpg  \n",
            "  inflating: train/brain_tumor_dataset/no/no 2.jpg  \n",
            "  inflating: train/brain_tumor_dataset/no/no 3.jpg  \n",
            "  inflating: train/brain_tumor_dataset/no/no 4.jpg  \n",
            "  inflating: train/brain_tumor_dataset/no/no 5.jpeg  \n",
            "  inflating: train/brain_tumor_dataset/no/no 6.jpg  \n",
            "  inflating: train/brain_tumor_dataset/no/no 7.jpeg  \n",
            "  inflating: train/brain_tumor_dataset/no/no 8.jpg  \n",
            "  inflating: train/brain_tumor_dataset/no/no 89.jpg  \n",
            "  inflating: train/brain_tumor_dataset/no/no 9.png  \n",
            "  inflating: train/brain_tumor_dataset/no/no 90.jpg  \n",
            "  inflating: train/brain_tumor_dataset/no/no 91.jpeg  \n",
            "  inflating: train/brain_tumor_dataset/no/no 92.jpg  \n",
            "  inflating: train/brain_tumor_dataset/no/no 923.jpg  \n",
            "  inflating: train/brain_tumor_dataset/no/no 94.jpg  \n",
            "  inflating: train/brain_tumor_dataset/no/no 95.jpg  \n",
            "  inflating: train/brain_tumor_dataset/no/no 96.jpg  \n",
            "  inflating: train/brain_tumor_dataset/no/no 97.jpg  \n",
            "  inflating: train/brain_tumor_dataset/no/no 98.jpg  \n",
            "  inflating: train/brain_tumor_dataset/no/no 99.jpg  \n",
            "  inflating: train/brain_tumor_dataset/no/no.jpg  \n",
            "  inflating: train/brain_tumor_dataset/yes/Y1.jpg  \n",
            "  inflating: train/brain_tumor_dataset/yes/Y10.jpg  \n",
            "  inflating: train/brain_tumor_dataset/yes/Y100.JPG  \n",
            "  inflating: train/brain_tumor_dataset/yes/Y101.jpg  \n",
            "  inflating: train/brain_tumor_dataset/yes/Y102.jpg  \n",
            "  inflating: train/brain_tumor_dataset/yes/Y103.jpg  \n",
            "  inflating: train/brain_tumor_dataset/yes/Y104.jpg  \n",
            "  inflating: train/brain_tumor_dataset/yes/Y105.jpg  \n",
            "  inflating: train/brain_tumor_dataset/yes/Y106.jpg  \n",
            "  inflating: train/brain_tumor_dataset/yes/Y107.jpg  \n",
            "  inflating: train/brain_tumor_dataset/yes/Y108.jpg  \n",
            "  inflating: train/brain_tumor_dataset/yes/Y109.JPG  \n",
            "  inflating: train/brain_tumor_dataset/yes/Y11.jpg  \n",
            "  inflating: train/brain_tumor_dataset/yes/Y111.JPG  \n",
            "  inflating: train/brain_tumor_dataset/yes/Y112.JPG  \n",
            "  inflating: train/brain_tumor_dataset/yes/Y113.JPG  \n",
            "  inflating: train/brain_tumor_dataset/yes/Y114.JPG  \n",
            "  inflating: train/brain_tumor_dataset/yes/Y115.JPG  \n",
            "  inflating: train/brain_tumor_dataset/yes/Y116.JPG  \n",
            "  inflating: train/brain_tumor_dataset/yes/Y117.JPG  \n",
            "  inflating: train/brain_tumor_dataset/yes/Y12.jpg  \n",
            "  inflating: train/brain_tumor_dataset/yes/Y120.JPG  \n",
            "  inflating: train/brain_tumor_dataset/yes/Y13.jpg  \n",
            "  inflating: train/brain_tumor_dataset/yes/Y14.jpg  \n",
            "  inflating: train/brain_tumor_dataset/yes/Y146.JPG  \n",
            "  inflating: train/brain_tumor_dataset/yes/Y147.JPG  \n",
            "  inflating: train/brain_tumor_dataset/yes/Y148.JPG  \n",
            "  inflating: train/brain_tumor_dataset/yes/Y15.jpg  \n",
            "  inflating: train/brain_tumor_dataset/yes/Y153.jpg  \n",
            "  inflating: train/brain_tumor_dataset/yes/Y154.jpg  \n",
            "  inflating: train/brain_tumor_dataset/yes/Y155.JPG  \n",
            "  inflating: train/brain_tumor_dataset/yes/Y156.JPG  \n",
            "  inflating: train/brain_tumor_dataset/yes/Y157.JPG  \n",
            "  inflating: train/brain_tumor_dataset/yes/Y158.JPG  \n",
            "  inflating: train/brain_tumor_dataset/yes/Y159.JPG  \n",
            "  inflating: train/brain_tumor_dataset/yes/Y16.JPG  \n",
            "  inflating: train/brain_tumor_dataset/yes/Y160.JPG  \n",
            "  inflating: train/brain_tumor_dataset/yes/Y161.JPG  \n",
            "  inflating: train/brain_tumor_dataset/yes/Y162.jpg  \n",
            "  inflating: train/brain_tumor_dataset/yes/Y163.JPG  \n",
            "  inflating: train/brain_tumor_dataset/yes/Y164.JPG  \n",
            "  inflating: train/brain_tumor_dataset/yes/Y165.JPG  \n",
            "  inflating: train/brain_tumor_dataset/yes/Y166.JPG  \n",
            "  inflating: train/brain_tumor_dataset/yes/Y167.JPG  \n",
            "  inflating: train/brain_tumor_dataset/yes/Y168.jpg  \n",
            "  inflating: train/brain_tumor_dataset/yes/Y169.jpg  \n",
            "  inflating: train/brain_tumor_dataset/yes/Y17.jpg  \n",
            "  inflating: train/brain_tumor_dataset/yes/Y170.JPG  \n",
            "  inflating: train/brain_tumor_dataset/yes/Y18.JPG  \n",
            "  inflating: train/brain_tumor_dataset/yes/Y180.jpg  \n",
            "  inflating: train/brain_tumor_dataset/yes/Y181.jpg  \n",
            "  inflating: train/brain_tumor_dataset/yes/Y182.JPG  \n",
            "  inflating: train/brain_tumor_dataset/yes/Y183.jpg  \n",
            "  inflating: train/brain_tumor_dataset/yes/Y184.JPG  \n",
            "  inflating: train/brain_tumor_dataset/yes/Y185.jpg  \n",
            "  inflating: train/brain_tumor_dataset/yes/Y186.jpg  \n",
            "  inflating: train/brain_tumor_dataset/yes/Y187.jpg  \n",
            "  inflating: train/brain_tumor_dataset/yes/Y188.jpg  \n",
            "  inflating: train/brain_tumor_dataset/yes/Y19.JPG  \n",
            "  inflating: train/brain_tumor_dataset/yes/Y192.JPG  \n",
            "  inflating: train/brain_tumor_dataset/yes/Y193.JPG  \n",
            "  inflating: train/brain_tumor_dataset/yes/Y194.jpg  \n",
            "  inflating: train/brain_tumor_dataset/yes/Y195.JPG  \n",
            "  inflating: train/brain_tumor_dataset/yes/Y2.jpg  \n",
            "  inflating: train/brain_tumor_dataset/yes/Y20.jpg  \n",
            "  inflating: train/brain_tumor_dataset/yes/Y21.jpg  \n",
            "  inflating: train/brain_tumor_dataset/yes/Y22.jpg  \n",
            "  inflating: train/brain_tumor_dataset/yes/Y23.JPG  \n",
            "  inflating: train/brain_tumor_dataset/yes/Y24.jpg  \n",
            "  inflating: train/brain_tumor_dataset/yes/Y242.JPG  \n",
            "  inflating: train/brain_tumor_dataset/yes/Y243.JPG  \n",
            "  inflating: train/brain_tumor_dataset/yes/Y244.JPG  \n",
            "  inflating: train/brain_tumor_dataset/yes/Y245.jpg  \n",
            "  inflating: train/brain_tumor_dataset/yes/Y246.JPG  \n",
            "  inflating: train/brain_tumor_dataset/yes/Y247.JPG  \n",
            "  inflating: train/brain_tumor_dataset/yes/Y248.JPG  \n",
            "  inflating: train/brain_tumor_dataset/yes/Y249.JPG  \n",
            "  inflating: train/brain_tumor_dataset/yes/Y25.jpg  \n",
            "  inflating: train/brain_tumor_dataset/yes/Y250.jpg  \n",
            "  inflating: train/brain_tumor_dataset/yes/Y251.JPG  \n",
            "  inflating: train/brain_tumor_dataset/yes/Y252.jpg  \n",
            "  inflating: train/brain_tumor_dataset/yes/Y253.JPG  \n",
            "  inflating: train/brain_tumor_dataset/yes/Y254.jpg  \n",
            "  inflating: train/brain_tumor_dataset/yes/Y255.JPG  \n",
            "  inflating: train/brain_tumor_dataset/yes/Y256.JPG  \n",
            "  inflating: train/brain_tumor_dataset/yes/Y257.jpg  \n",
            "  inflating: train/brain_tumor_dataset/yes/Y258.JPG  \n",
            "  inflating: train/brain_tumor_dataset/yes/Y259.JPG  \n",
            "  inflating: train/brain_tumor_dataset/yes/Y26.jpg  \n",
            "  inflating: train/brain_tumor_dataset/yes/Y27.jpg  \n",
            "  inflating: train/brain_tumor_dataset/yes/Y28.jpg  \n",
            "  inflating: train/brain_tumor_dataset/yes/Y29.jpg  \n",
            "  inflating: train/brain_tumor_dataset/yes/Y3.jpg  \n",
            "  inflating: train/brain_tumor_dataset/yes/Y30.jpg  \n",
            "  inflating: train/brain_tumor_dataset/yes/Y31.jpg  \n",
            "  inflating: train/brain_tumor_dataset/yes/Y32.jpg  \n",
            "  inflating: train/brain_tumor_dataset/yes/Y33.jpg  \n",
            "  inflating: train/brain_tumor_dataset/yes/Y34.jpg  \n",
            "  inflating: train/brain_tumor_dataset/yes/Y35.jpg  \n",
            "  inflating: train/brain_tumor_dataset/yes/Y36.JPG  \n",
            "  inflating: train/brain_tumor_dataset/yes/Y37.jpg  \n",
            "  inflating: train/brain_tumor_dataset/yes/Y38.jpg  \n",
            "  inflating: train/brain_tumor_dataset/yes/Y39.jpg  \n",
            "  inflating: train/brain_tumor_dataset/yes/Y4.jpg  \n",
            "  inflating: train/brain_tumor_dataset/yes/Y40.JPG  \n",
            "  inflating: train/brain_tumor_dataset/yes/Y41.jpg  \n",
            "  inflating: train/brain_tumor_dataset/yes/Y42.jpg  \n",
            "  inflating: train/brain_tumor_dataset/yes/Y44.JPG  \n",
            "  inflating: train/brain_tumor_dataset/yes/Y45.JPG  \n",
            "  inflating: train/brain_tumor_dataset/yes/Y46.jpg  \n",
            "  inflating: train/brain_tumor_dataset/yes/Y47.JPG  \n",
            "  inflating: train/brain_tumor_dataset/yes/Y49.JPG  \n",
            "  inflating: train/brain_tumor_dataset/yes/Y50.JPG  \n",
            "  inflating: train/brain_tumor_dataset/yes/Y51.jpg  \n",
            "  inflating: train/brain_tumor_dataset/yes/Y52.jpg  \n",
            "  inflating: train/brain_tumor_dataset/yes/Y53.jpg  \n",
            "  inflating: train/brain_tumor_dataset/yes/Y54.jpg  \n",
            "  inflating: train/brain_tumor_dataset/yes/Y55.jpg  \n",
            "  inflating: train/brain_tumor_dataset/yes/Y56.jpg  \n",
            "  inflating: train/brain_tumor_dataset/yes/Y58.JPG  \n",
            "  inflating: train/brain_tumor_dataset/yes/Y59.JPG  \n",
            "  inflating: train/brain_tumor_dataset/yes/Y6.jpg  \n",
            "  inflating: train/brain_tumor_dataset/yes/Y60.jpg  \n",
            "  inflating: train/brain_tumor_dataset/yes/Y61.jpg  \n",
            "  inflating: train/brain_tumor_dataset/yes/Y62.jpg  \n",
            "  inflating: train/brain_tumor_dataset/yes/Y65.JPG  \n",
            "  inflating: train/brain_tumor_dataset/yes/Y66.JPG  \n",
            "  inflating: train/brain_tumor_dataset/yes/Y67.JPG  \n",
            "  inflating: train/brain_tumor_dataset/yes/Y69.jpg  \n",
            "  inflating: train/brain_tumor_dataset/yes/Y7.jpg  \n",
            "  inflating: train/brain_tumor_dataset/yes/Y70.jpg  \n",
            "  inflating: train/brain_tumor_dataset/yes/Y71.JPG  \n",
            "  inflating: train/brain_tumor_dataset/yes/Y73.jpg  \n",
            "  inflating: train/brain_tumor_dataset/yes/Y74.jpg  \n",
            "  inflating: train/brain_tumor_dataset/yes/Y75.JPG  \n",
            "  inflating: train/brain_tumor_dataset/yes/Y76.jpg  \n",
            "  inflating: train/brain_tumor_dataset/yes/Y77.jpg  \n",
            "  inflating: train/brain_tumor_dataset/yes/Y78.jpg  \n",
            "  inflating: train/brain_tumor_dataset/yes/Y79.jpg  \n",
            "  inflating: train/brain_tumor_dataset/yes/Y8.jpg  \n",
            "  inflating: train/brain_tumor_dataset/yes/Y81.jpg  \n",
            "  inflating: train/brain_tumor_dataset/yes/Y82.jpg  \n",
            "  inflating: train/brain_tumor_dataset/yes/Y85.JPG  \n",
            "  inflating: train/brain_tumor_dataset/yes/Y86.JPG  \n",
            "  inflating: train/brain_tumor_dataset/yes/Y89.JPG  \n",
            "  inflating: train/brain_tumor_dataset/yes/Y9.jpg  \n",
            "  inflating: train/brain_tumor_dataset/yes/Y90.jpg  \n",
            "  inflating: train/brain_tumor_dataset/yes/Y91.jpg  \n",
            "  inflating: train/brain_tumor_dataset/yes/Y92.jpg  \n",
            "  inflating: train/brain_tumor_dataset/yes/Y92.png  \n",
            "  inflating: train/brain_tumor_dataset/yes/Y95.jpg  \n",
            "  inflating: train/brain_tumor_dataset/yes/Y96.jpg  \n",
            "  inflating: train/brain_tumor_dataset/yes/Y97.JPG  \n",
            "  inflating: train/brain_tumor_dataset/yes/Y98.JPG  \n",
            "  inflating: train/brain_tumor_dataset/yes/Y99.JPG  \n",
            "replace train/no/1 no.jpeg? [y]es, [n]o, [A]ll, [N]one, [r]ename: y\n",
            "  inflating: train/no/1 no.jpeg      \n",
            "replace train/no/10 no.jpg? [y]es, [n]o, [A]ll, [N]one, [r]ename: A\n",
            "  inflating: train/no/10 no.jpg      \n",
            "  inflating: train/no/11 no.jpg      \n",
            "  inflating: train/no/12 no.jpg      \n",
            "  inflating: train/no/13 no.jpg      \n",
            "  inflating: train/no/14 no.jpg      \n",
            "  inflating: train/no/15 no.jpg      \n",
            "  inflating: train/no/17 no.jpg      \n",
            "  inflating: train/no/18 no.jpg      \n",
            "  inflating: train/no/19 no.jpg      \n",
            "  inflating: train/no/2 no.jpeg      \n",
            "  inflating: train/no/20 no.jpg      \n",
            "  inflating: train/no/21 no.jpg      \n",
            "  inflating: train/no/22 no.jpg      \n",
            "  inflating: train/no/23 no.jpg      \n",
            "  inflating: train/no/24 no.jpg      \n",
            "  inflating: train/no/25 no.jpg      \n",
            "  inflating: train/no/26 no.jpg      \n",
            "  inflating: train/no/27 no.jpg      \n",
            "  inflating: train/no/28 no.jpg      \n",
            "  inflating: train/no/29 no.jpg      \n",
            "  inflating: train/no/3 no.jpg       \n",
            "  inflating: train/no/30 no.jpg      \n",
            "  inflating: train/no/31 no.jpg      \n",
            "  inflating: train/no/32 no.jpg      \n",
            "  inflating: train/no/33 no.jpg      \n",
            "  inflating: train/no/34 no.jpg      \n",
            "  inflating: train/no/35 no.jpg      \n",
            "  inflating: train/no/36 no.jpg      \n",
            "  inflating: train/no/37 no.jpg      \n",
            "  inflating: train/no/38 no.jpg      \n",
            "  inflating: train/no/39 no.jpg      \n",
            "  inflating: train/no/4 no.jpg       \n",
            "  inflating: train/no/40 no.jpg      \n",
            "  inflating: train/no/41 no.jpg      \n",
            "  inflating: train/no/42 no.jpg      \n",
            "  inflating: train/no/43 no.jpg      \n",
            "  inflating: train/no/44no.jpg       \n",
            "  inflating: train/no/45 no.jpg      \n",
            "  inflating: train/no/46 no.jpg      \n",
            "  inflating: train/no/47 no.jpg      \n",
            "  inflating: train/no/48 no.jpeg     \n",
            "  inflating: train/no/49 no.jpg      \n",
            "  inflating: train/no/5 no.jpg       \n",
            "  inflating: train/no/50 no.jpg      \n",
            "  inflating: train/no/6 no.jpg       \n",
            "  inflating: train/no/7 no.jpg       \n",
            "  inflating: train/no/8 no.jpg       \n",
            "  inflating: train/no/9 no.jpg       \n",
            "  inflating: train/no/N1.JPG         \n",
            "  inflating: train/no/N11.jpg        \n",
            "  inflating: train/no/N15.jpg        \n",
            "  inflating: train/no/N16.jpg        \n",
            "  inflating: train/no/N17.jpg        \n",
            "  inflating: train/no/N19.JPG        \n",
            "  inflating: train/no/N2.JPG         \n",
            "  inflating: train/no/N20.JPG        \n",
            "  inflating: train/no/N21.jpg        \n",
            "  inflating: train/no/N22.JPG        \n",
            "  inflating: train/no/N26.JPG        \n",
            "  inflating: train/no/N3.jpg         \n",
            "  inflating: train/no/N5.jpg         \n",
            "  inflating: train/no/N6.jpg         \n",
            "  inflating: train/no/No11.jpg       \n",
            "  inflating: train/no/No12.jpg       \n",
            "  inflating: train/no/No13.jpg       \n",
            "  inflating: train/no/No14.jpg       \n",
            "  inflating: train/no/No15.jpg       \n",
            "  inflating: train/no/No16.jpg       \n",
            "  inflating: train/no/No17.jpg       \n",
            "  inflating: train/no/No18.jpg       \n",
            "  inflating: train/no/No19.jpg       \n",
            "  inflating: train/no/No20.jpg       \n",
            "  inflating: train/no/No21.jpg       \n",
            "  inflating: train/no/No22.jpg       \n",
            "  inflating: train/no/no 1.jpg       \n",
            "  inflating: train/no/no 10.jpg      \n",
            "  inflating: train/no/no 100.jpg     \n",
            "  inflating: train/no/no 2.jpg       \n",
            "  inflating: train/no/no 3.jpg       \n",
            "  inflating: train/no/no 4.jpg       \n",
            "  inflating: train/no/no 5.jpeg      \n",
            "  inflating: train/no/no 6.jpg       \n",
            "  inflating: train/no/no 7.jpeg      \n",
            "  inflating: train/no/no 8.jpg       \n",
            "  inflating: train/no/no 89.jpg      \n",
            "  inflating: train/no/no 9.png       \n",
            "  inflating: train/no/no 90.jpg      \n",
            "  inflating: train/no/no 91.jpeg     \n",
            "  inflating: train/no/no 92.jpg      \n",
            "  inflating: train/no/no 923.jpg     \n",
            "  inflating: train/no/no 94.jpg      \n",
            "  inflating: train/no/no 95.jpg      \n",
            "  inflating: train/no/no 96.jpg      \n",
            "  inflating: train/no/no 97.jpg      \n",
            "  inflating: train/no/no 98.jpg      \n",
            "  inflating: train/no/no 99.jpg      \n",
            "  inflating: train/no/no.jpg         \n",
            "  inflating: train/yes/Y1.jpg        \n",
            "  inflating: train/yes/Y10.jpg       \n",
            "  inflating: train/yes/Y100.JPG      \n",
            "  inflating: train/yes/Y101.jpg      \n",
            "  inflating: train/yes/Y102.jpg      \n",
            "  inflating: train/yes/Y103.jpg      \n",
            "  inflating: train/yes/Y104.jpg      \n",
            "  inflating: train/yes/Y105.jpg      \n",
            "  inflating: train/yes/Y106.jpg      \n",
            "  inflating: train/yes/Y107.jpg      \n",
            "  inflating: train/yes/Y108.jpg      \n",
            "  inflating: train/yes/Y109.JPG      \n",
            "  inflating: train/yes/Y11.jpg       \n",
            "  inflating: train/yes/Y111.JPG      \n",
            "  inflating: train/yes/Y112.JPG      \n",
            "  inflating: train/yes/Y113.JPG      \n",
            "  inflating: train/yes/Y114.JPG      \n",
            "  inflating: train/yes/Y115.JPG      \n",
            "  inflating: train/yes/Y116.JPG      \n",
            "  inflating: train/yes/Y117.JPG      \n",
            "  inflating: train/yes/Y12.jpg       \n",
            "  inflating: train/yes/Y120.JPG      \n",
            "  inflating: train/yes/Y13.jpg       \n",
            "  inflating: train/yes/Y14.jpg       \n",
            "  inflating: train/yes/Y146.JPG      \n",
            "  inflating: train/yes/Y147.JPG      \n",
            "  inflating: train/yes/Y148.JPG      \n",
            "  inflating: train/yes/Y15.jpg       \n",
            "  inflating: train/yes/Y153.jpg      \n",
            "  inflating: train/yes/Y154.jpg      \n",
            "  inflating: train/yes/Y155.JPG      \n",
            "  inflating: train/yes/Y156.JPG      \n",
            "  inflating: train/yes/Y157.JPG      \n",
            "  inflating: train/yes/Y158.JPG      \n",
            "  inflating: train/yes/Y159.JPG      \n",
            "  inflating: train/yes/Y16.JPG       \n",
            "  inflating: train/yes/Y160.JPG      \n",
            "  inflating: train/yes/Y161.JPG      \n",
            "  inflating: train/yes/Y162.jpg      \n",
            "  inflating: train/yes/Y163.JPG      \n",
            "  inflating: train/yes/Y164.JPG      \n",
            "  inflating: train/yes/Y165.JPG      \n",
            "  inflating: train/yes/Y166.JPG      \n",
            "  inflating: train/yes/Y167.JPG      \n",
            "  inflating: train/yes/Y168.jpg      \n",
            "  inflating: train/yes/Y169.jpg      \n",
            "  inflating: train/yes/Y17.jpg       \n",
            "  inflating: train/yes/Y170.JPG      \n",
            "  inflating: train/yes/Y18.JPG       \n",
            "  inflating: train/yes/Y180.jpg      \n",
            "  inflating: train/yes/Y181.jpg      \n",
            "  inflating: train/yes/Y182.JPG      \n",
            "  inflating: train/yes/Y183.jpg      \n",
            "  inflating: train/yes/Y184.JPG      \n",
            "  inflating: train/yes/Y185.jpg      \n",
            "  inflating: train/yes/Y186.jpg      \n",
            "  inflating: train/yes/Y187.jpg      \n",
            "  inflating: train/yes/Y188.jpg      \n",
            "  inflating: train/yes/Y19.JPG       \n",
            "  inflating: train/yes/Y192.JPG      \n",
            "  inflating: train/yes/Y193.JPG      \n",
            "  inflating: train/yes/Y194.jpg      \n",
            "  inflating: train/yes/Y195.JPG      \n",
            "  inflating: train/yes/Y2.jpg        \n",
            "  inflating: train/yes/Y20.jpg       \n",
            "  inflating: train/yes/Y21.jpg       \n",
            "  inflating: train/yes/Y22.jpg       \n",
            "  inflating: train/yes/Y23.JPG       \n",
            "  inflating: train/yes/Y24.jpg       \n",
            "  inflating: train/yes/Y242.JPG      \n",
            "  inflating: train/yes/Y243.JPG      \n",
            "  inflating: train/yes/Y244.JPG      \n",
            "  inflating: train/yes/Y245.jpg      \n",
            "  inflating: train/yes/Y246.JPG      \n",
            "  inflating: train/yes/Y247.JPG      \n",
            "  inflating: train/yes/Y248.JPG      \n",
            "  inflating: train/yes/Y249.JPG      \n",
            "  inflating: train/yes/Y25.jpg       \n",
            "  inflating: train/yes/Y250.jpg      \n",
            "  inflating: train/yes/Y251.JPG      \n",
            "  inflating: train/yes/Y252.jpg      \n",
            "  inflating: train/yes/Y253.JPG      \n",
            "  inflating: train/yes/Y254.jpg      \n",
            "  inflating: train/yes/Y255.JPG      \n",
            "  inflating: train/yes/Y256.JPG      \n",
            "  inflating: train/yes/Y257.jpg      \n",
            "  inflating: train/yes/Y258.JPG      \n",
            "  inflating: train/yes/Y259.JPG      \n",
            "  inflating: train/yes/Y26.jpg       \n",
            "  inflating: train/yes/Y27.jpg       \n",
            "  inflating: train/yes/Y28.jpg       \n",
            "  inflating: train/yes/Y29.jpg       \n",
            "  inflating: train/yes/Y3.jpg        \n",
            "  inflating: train/yes/Y30.jpg       \n",
            "  inflating: train/yes/Y31.jpg       \n",
            "  inflating: train/yes/Y32.jpg       \n",
            "  inflating: train/yes/Y33.jpg       \n",
            "  inflating: train/yes/Y34.jpg       \n",
            "  inflating: train/yes/Y35.jpg       \n",
            "  inflating: train/yes/Y36.JPG       \n",
            "  inflating: train/yes/Y37.jpg       \n",
            "  inflating: train/yes/Y38.jpg       \n",
            "  inflating: train/yes/Y39.jpg       \n",
            "  inflating: train/yes/Y4.jpg        \n",
            "  inflating: train/yes/Y40.JPG       \n",
            "  inflating: train/yes/Y41.jpg       \n",
            "  inflating: train/yes/Y42.jpg       \n",
            "  inflating: train/yes/Y44.JPG       \n",
            "  inflating: train/yes/Y45.JPG       \n",
            "  inflating: train/yes/Y46.jpg       \n",
            "  inflating: train/yes/Y47.JPG       \n",
            "  inflating: train/yes/Y49.JPG       \n",
            "  inflating: train/yes/Y50.JPG       \n",
            "  inflating: train/yes/Y51.jpg       \n",
            "  inflating: train/yes/Y52.jpg       \n",
            "  inflating: train/yes/Y53.jpg       \n",
            "  inflating: train/yes/Y54.jpg       \n",
            "  inflating: train/yes/Y55.jpg       \n",
            "  inflating: train/yes/Y56.jpg       \n",
            "  inflating: train/yes/Y58.JPG       \n",
            "  inflating: train/yes/Y59.JPG       \n",
            "  inflating: train/yes/Y6.jpg        \n",
            "  inflating: train/yes/Y60.jpg       \n",
            "  inflating: train/yes/Y61.jpg       \n",
            "  inflating: train/yes/Y62.jpg       \n",
            "  inflating: train/yes/Y65.JPG       \n",
            "  inflating: train/yes/Y66.JPG       \n",
            "  inflating: train/yes/Y67.JPG       \n",
            "  inflating: train/yes/Y69.jpg       \n",
            "  inflating: train/yes/Y7.jpg        \n",
            "  inflating: train/yes/Y70.jpg       \n",
            "  inflating: train/yes/Y71.JPG       \n",
            "  inflating: train/yes/Y73.jpg       \n",
            "  inflating: train/yes/Y74.jpg       \n",
            "  inflating: train/yes/Y75.JPG       \n",
            "  inflating: train/yes/Y76.jpg       \n",
            "  inflating: train/yes/Y77.jpg       \n",
            "  inflating: train/yes/Y78.jpg       \n",
            "  inflating: train/yes/Y79.jpg       \n",
            "  inflating: train/yes/Y8.jpg        \n",
            "  inflating: train/yes/Y81.jpg       \n",
            "  inflating: train/yes/Y82.jpg       \n",
            "  inflating: train/yes/Y85.JPG       \n",
            "  inflating: train/yes/Y86.JPG       \n",
            "  inflating: train/yes/Y89.JPG       \n",
            "  inflating: train/yes/Y9.jpg        \n",
            "  inflating: train/yes/Y90.jpg       \n",
            "  inflating: train/yes/Y91.jpg       \n",
            "  inflating: train/yes/Y92.jpg       \n",
            "  inflating: train/yes/Y92.png       \n",
            "  inflating: train/yes/Y95.jpg       \n",
            "  inflating: train/yes/Y96.jpg       \n",
            "  inflating: train/yes/Y97.JPG       \n",
            "  inflating: train/yes/Y98.JPG       \n",
            "  inflating: train/yes/Y99.JPG       \n"
          ]
        }
      ],
      "source": [
        "! unzip brain-mri-images-for-brain-tumor-detection.zip -d train"
      ]
    },
    {
      "cell_type": "markdown",
      "source": [
        "## Обработка датасета"
      ],
      "metadata": {
        "id": "1-bDYWp2y5E-"
      }
    },
    {
      "cell_type": "code",
      "execution_count": null,
      "metadata": {
        "id": "tzu2EpFzh12H"
      },
      "outputs": [],
      "source": [
        "# Удаление лишней папки, которая была добавлена при скачивание датасета\n",
        "\n",
        "!rm -rf /content/train/brain_tumor_dataset"
      ]
    },
    {
      "cell_type": "markdown",
      "metadata": {
        "id": "mUdS2rW2flls"
      },
      "source": [
        "### Подключение необходимых библиотек"
      ]
    },
    {
      "cell_type": "code",
      "execution_count": null,
      "metadata": {
        "id": "UBLXuPdjfBlu"
      },
      "outputs": [],
      "source": [
        "import cv2\n",
        "\n",
        "import os\n",
        "\n",
        "import numpy as np \n",
        "\n",
        "from tensorflow.keras.models import Sequential\n",
        "\n",
        "from tensorflow.keras.layers import Dense, Conv2D, MaxPooling2D, Flatten, Dropout, BatchNormalization\n",
        "\n",
        "from tensorflow.keras.optimizers import Adam     \n",
        "\n",
        "from tensorflow.keras import utils\n",
        "\n",
        "import tensorflow as tf\n",
        "import keras\n",
        "from tensorflow import keras\n",
        "\n",
        "from tensorflow.keras.preprocessing.image import ImageDataGenerator\n",
        "\n",
        "from sklearn.metrics import confusion_matrix, ConfusionMatrixDisplay\n",
        "\n",
        "from PIL import Image, ImageColor\n",
        "from google.colab.patches import cv2_imshow\n",
        "\n",
        "import matplotlib.pyplot as plt  \n",
        "\n",
        "%matplotlib inline "
      ]
    },
    {
      "cell_type": "markdown",
      "metadata": {
        "id": "mhIobCV0xG3w"
      },
      "source": [
        "*Так как в datasete довольно малое количество фотографий, хорощим решением будет применить агументацию*\n"
      ]
    },
    {
      "cell_type": "code",
      "execution_count": null,
      "metadata": {
        "id": "AgF_-y0Yxwdo"
      },
      "outputs": [],
      "source": [
        "# Установка переменных, которые будут использоваться в ходе обучения\n",
        "\n",
        "IMG_WIDTH           = 64                  \n",
        "IMG_HEIGHT          = 64                 \n",
        "IMG_CHANNELS        = 3  \n",
        "\n",
        "TEST_SPLIT          = 0.1                   \n",
        "VAL_SPLIT           = 0.1 \n",
        "\n",
        "ROTATION_RANGE      = 8                     \n",
        "WIDTH_SHIFT_RANGE   = 0.15                  \n",
        "HEIGHT_SHIFT_RANGE  = 0.15                 \n",
        "ZOOM_RANGE          = 0.15                  \n",
        "BRIGHTNESS_RANGE    = (0.7, 1.3)            \n",
        "HORIZONTAL_FLIP     = True   \n",
        "\n",
        "BATCH_SIZE          = 16"
      ]
    },
    {
      "cell_type": "markdown",
      "source": [
        "**Распределение данных на тренировочный и тестовый датасет**"
      ],
      "metadata": {
        "id": "5smsBaFz5e6O"
      }
    },
    {
      "cell_type": "code",
      "execution_count": null,
      "metadata": {
        "id": "-A96KoyrxWSu"
      },
      "outputs": [],
      "source": [
        "train = '/content/train'\n",
        "class_list = sorted(os.listdir(train))"
      ]
    },
    {
      "cell_type": "code",
      "execution_count": null,
      "metadata": {
        "id": "gO21u7AXAWeL"
      },
      "outputs": [],
      "source": [
        "!rm -rf '/content/test_path'"
      ]
    },
    {
      "cell_type": "code",
      "execution_count": null,
      "metadata": {
        "colab": {
          "base_uri": "https://localhost:8080/"
        },
        "id": "ri_u_wpvx-Fy",
        "outputId": "21ebdcad-5538-4ff4-8124-9dbb8217d37c"
      },
      "outputs": [
        {
          "output_type": "stream",
          "name": "stdout",
          "text": [
            "Размер класса no: 98 фото, для теста выделено файлов: 9\n",
            "Размер класса yes: 155 фото, для теста выделено файлов: 15\n",
            "Общий размер базы: 253, выделено для обучения: 229, для теста: 24\n"
          ]
        }
      ],
      "source": [
        "os.mkdir('/content/test_path')\n",
        "\n",
        "Test_path = '/content/test_path'\n",
        "\n",
        "train_count = 0\n",
        "test_count = 0 \n",
        "\n",
        "for class_name in class_list:\n",
        "  class_path = f'{train}/{class_name}'\n",
        "  test_path = f'{Test_path}/{class_name}'\n",
        "  class_files = os.listdir(class_path)\n",
        "  class_file_count = len(class_files)\n",
        "  os.mkdir(test_path) \n",
        "  test_file_count = int(class_file_count * TEST_SPLIT)\n",
        "  test_files = class_files[-test_file_count:] \n",
        "  for f in test_files:                                   \n",
        "        os.rename(f'{class_path}/{f}', f'{test_path}/{f}') \n",
        "  train_count += class_file_count                        \n",
        "  test_count += test_file_count     \n",
        "\n",
        "  print(f'Размер класса {class_name}: {class_file_count} фото, для теста выделено файлов: {test_file_count}')\n",
        "\n",
        "print(f'Общий размер базы: {train_count}, выделено для обучения: {train_count - test_count}, для теста: {test_count}')"
      ]
    },
    {
      "cell_type": "markdown",
      "source": [
        "### **Агументация изображений**"
      ],
      "metadata": {
        "id": "xQxjHJAv5mU5"
      }
    },
    {
      "cell_type": "code",
      "execution_count": null,
      "metadata": {
        "id": "FzTWv6qtCl8w"
      },
      "outputs": [],
      "source": [
        "# Производится в случайном порядке изменение фотографий на тренировочных и тестовых данных\n",
        "train_datagen = ImageDataGenerator(\n",
        "                    rescale=1. / 255.,\n",
        "                    rotation_range=ROTATION_RANGE,\n",
        "                    width_shift_range=WIDTH_SHIFT_RANGE,\n",
        "                    height_shift_range=HEIGHT_SHIFT_RANGE,\n",
        "                    zoom_range=ZOOM_RANGE,\n",
        "                    brightness_range=BRIGHTNESS_RANGE,\n",
        "                    horizontal_flip=HORIZONTAL_FLIP,\n",
        "                    validation_split=VAL_SPLIT\n",
        "                )\n",
        "\n",
        "\n",
        "test_datagen = ImageDataGenerator(\n",
        "                   rescale=1. / 255.\n",
        "                )"
      ]
    },
    {
      "cell_type": "markdown",
      "source": [
        "### Разделение данных "
      ],
      "metadata": {
        "id": "WKxukM7dx7S8"
      }
    },
    {
      "cell_type": "code",
      "execution_count": null,
      "metadata": {
        "colab": {
          "base_uri": "https://localhost:8080/"
        },
        "id": "nRHvvFbYD2NU",
        "outputId": "fffea73b-8aa6-44ab-eb6a-cc6e57211071"
      },
      "outputs": [
        {
          "output_type": "stream",
          "name": "stdout",
          "text": [
            "Found 207 images belonging to 2 classes.\n",
            "Found 22 images belonging to 2 classes.\n",
            "Found 24 images belonging to 2 classes.\n"
          ]
        }
      ],
      "source": [
        "# Распределение данных на тренировочные, валидационные и тестовые\n",
        "train_generator = train_datagen.flow_from_directory(\n",
        "    train,\n",
        "    target_size=(IMG_HEIGHT, IMG_WIDTH),\n",
        "    batch_size=BATCH_SIZE,\n",
        "    class_mode='categorical',\n",
        "    shuffle=True,\n",
        "    subset='training'\n",
        ")\n",
        "\n",
        "validation_generator = train_datagen.flow_from_directory(\n",
        "    train,\n",
        "    target_size=(IMG_HEIGHT, IMG_WIDTH),\n",
        "    batch_size=BATCH_SIZE,\n",
        "    class_mode='categorical',\n",
        "    shuffle=True,\n",
        "    subset='validation'\n",
        ")\n",
        "\n",
        "test_generator = test_datagen.flow_from_directory(\n",
        "    Test_path,\n",
        "    target_size=(IMG_HEIGHT, IMG_WIDTH),\n",
        "    batch_size=test_count,\n",
        "    class_mode='categorical',\n",
        "    shuffle=True,\n",
        ")"
      ]
    },
    {
      "cell_type": "markdown",
      "metadata": {
        "id": "wpIM5Vo8p_rI"
      },
      "source": [
        "## Обучение модели"
      ]
    },
    {
      "cell_type": "code",
      "execution_count": null,
      "metadata": {
        "colab": {
          "base_uri": "https://localhost:8080/"
        },
        "id": "r-VDLKoAptAr",
        "outputId": "40b28471-c0cb-43cb-c0ca-fba191dc65e5"
      },
      "outputs": [
        {
          "output_type": "stream",
          "name": "stdout",
          "text": [
            "Model: \"sequential\"\n",
            "_________________________________________________________________\n",
            " Layer (type)                Output Shape              Param #   \n",
            "=================================================================\n",
            " conv2d (Conv2D)             (None, 64, 64, 16)        1744      \n",
            "                                                                 \n",
            " batch_normalization (BatchN  (None, 64, 64, 16)       64        \n",
            " ormalization)                                                   \n",
            "                                                                 \n",
            " conv2d_1 (Conv2D)           (None, 64, 64, 16)        1040      \n",
            "                                                                 \n",
            " dropout (Dropout)           (None, 64, 64, 16)        0         \n",
            "                                                                 \n",
            " flatten (Flatten)           (None, 65536)             0         \n",
            "                                                                 \n",
            " dense (Dense)               (None, 250)               16384250  \n",
            "                                                                 \n",
            " dropout_1 (Dropout)         (None, 250)               0         \n",
            "                                                                 \n",
            " dense_1 (Dense)             (None, 2)                 502       \n",
            "                                                                 \n",
            "=================================================================\n",
            "Total params: 16,387,600\n",
            "Trainable params: 16,387,568\n",
            "Non-trainable params: 32\n",
            "_________________________________________________________________\n",
            "None\n"
          ]
        }
      ],
      "source": [
        "# Сборка модели \n",
        "model = Sequential()\n",
        "\n",
        "model.add(Conv2D(16, (6,6), padding='same', activation='relu', input_shape=(IMG_WIDTH,IMG_HEIGHT,IMG_CHANNELS))) # input_shape не менять !\n",
        "model.add(BatchNormalization())\n",
        "\n",
        "model.add(Conv2D(16, (2,2), padding='same', activation='relu'))\n",
        "model.add(Dropout(0.5))\n",
        "\n",
        "model.add(Flatten())\n",
        "\n",
        "model.add(Dense(250, activation='relu'))\n",
        "model.add(Dropout(0.4))\n",
        "\n",
        "model.add(Dense(2, activation='softmax'))\n",
        "\n",
        "model.compile(loss='binary_crossentropy', optimizer=Adam(learning_rate=0.001), metrics=['accuracy'])\n",
        "\n",
        "print(model.summary())"
      ]
    },
    {
      "cell_type": "code",
      "source": [
        "!rm -rf check_point"
      ],
      "metadata": {
        "id": "Q-Z6tGn7KgZp"
      },
      "execution_count": null,
      "outputs": []
    },
    {
      "cell_type": "code",
      "source": [
        "# Обучение модели с сохранением лучшей эпохи обучения, где был достигнут наибольший результат на валидационных данных\n",
        "\n",
        "os.mkdir('/content/check_point')\n",
        "\n",
        "path_checkpoint = '/content/check_point'\n",
        "\n",
        "model_checkpoint_callback = tf.keras.callbacks.ModelCheckpoint(\n",
        "    filepath=path_checkpoint,\n",
        "    save_weights_only=True,\n",
        "    monitor='val_accuracy',\n",
        "    mode='max',\n",
        "    save_best_only=True)\n",
        "\n",
        "history = model.fit(train_generator,\n",
        "                    epochs=60,\n",
        "                    validation_data=validation_generator,\n",
        "                    verbose=1,\n",
        "                    callbacks=[model_checkpoint_callback])\n",
        "\n",
        "model.load_weights(path_checkpoint)"
      ],
      "metadata": {
        "colab": {
          "base_uri": "https://localhost:8080/"
        },
        "id": "gYyK3bNdBnt6",
        "outputId": "050f731e-868c-408b-b07a-8730aaf39a18"
      },
      "execution_count": null,
      "outputs": [
        {
          "output_type": "stream",
          "name": "stdout",
          "text": [
            "Epoch 1/60\n",
            "13/13 [==============================] - 5s 388ms/step - loss: 0.4384 - accuracy: 0.8068 - val_loss: 0.4473 - val_accuracy: 0.7273\n",
            "Epoch 2/60\n",
            "13/13 [==============================] - 5s 391ms/step - loss: 0.3898 - accuracy: 0.8116 - val_loss: 0.3779 - val_accuracy: 0.8182\n",
            "Epoch 3/60\n",
            "13/13 [==============================] - 5s 382ms/step - loss: 0.3882 - accuracy: 0.8116 - val_loss: 0.4317 - val_accuracy: 0.8636\n",
            "Epoch 4/60\n",
            "13/13 [==============================] - 5s 340ms/step - loss: 0.3871 - accuracy: 0.8116 - val_loss: 0.5203 - val_accuracy: 0.7273\n",
            "Epoch 5/60\n",
            "13/13 [==============================] - 4s 339ms/step - loss: 0.3584 - accuracy: 0.8309 - val_loss: 0.3727 - val_accuracy: 0.8636\n",
            "Epoch 6/60\n",
            "13/13 [==============================] - 4s 334ms/step - loss: 0.3448 - accuracy: 0.8551 - val_loss: 0.5262 - val_accuracy: 0.7727\n",
            "Epoch 7/60\n",
            "13/13 [==============================] - 4s 337ms/step - loss: 0.4030 - accuracy: 0.8116 - val_loss: 0.6768 - val_accuracy: 0.8182\n",
            "Epoch 8/60\n",
            "13/13 [==============================] - 4s 339ms/step - loss: 0.3534 - accuracy: 0.8502 - val_loss: 0.4918 - val_accuracy: 0.7727\n",
            "Epoch 9/60\n",
            "13/13 [==============================] - 5s 409ms/step - loss: 0.3412 - accuracy: 0.8599 - val_loss: 0.4712 - val_accuracy: 0.7727\n",
            "Epoch 10/60\n",
            "13/13 [==============================] - 5s 339ms/step - loss: 0.3556 - accuracy: 0.8551 - val_loss: 0.5980 - val_accuracy: 0.7273\n",
            "Epoch 11/60\n",
            "13/13 [==============================] - 6s 450ms/step - loss: 0.4504 - accuracy: 0.7923 - val_loss: 0.5299 - val_accuracy: 0.8182\n",
            "Epoch 12/60\n",
            "13/13 [==============================] - 5s 336ms/step - loss: 0.3852 - accuracy: 0.7923 - val_loss: 0.6428 - val_accuracy: 0.7273\n",
            "Epoch 13/60\n",
            "13/13 [==============================] - 4s 339ms/step - loss: 0.4022 - accuracy: 0.8213 - val_loss: 0.5728 - val_accuracy: 0.7727\n",
            "Epoch 14/60\n",
            "13/13 [==============================] - 4s 337ms/step - loss: 0.3500 - accuracy: 0.8309 - val_loss: 0.4400 - val_accuracy: 0.8636\n",
            "Epoch 15/60\n",
            "13/13 [==============================] - 4s 330ms/step - loss: 0.3184 - accuracy: 0.8502 - val_loss: 0.7412 - val_accuracy: 0.7273\n",
            "Epoch 16/60\n",
            "13/13 [==============================] - 4s 336ms/step - loss: 0.3991 - accuracy: 0.8019 - val_loss: 0.3753 - val_accuracy: 0.8636\n",
            "Epoch 17/60\n",
            "13/13 [==============================] - 4s 335ms/step - loss: 0.4290 - accuracy: 0.7971 - val_loss: 0.4252 - val_accuracy: 0.8636\n",
            "Epoch 18/60\n",
            "13/13 [==============================] - 4s 340ms/step - loss: 0.3540 - accuracy: 0.8551 - val_loss: 0.5770 - val_accuracy: 0.7727\n",
            "Epoch 19/60\n",
            "13/13 [==============================] - 4s 330ms/step - loss: 0.3913 - accuracy: 0.8213 - val_loss: 0.3984 - val_accuracy: 0.8636\n",
            "Epoch 20/60\n",
            "13/13 [==============================] - 5s 341ms/step - loss: 0.3419 - accuracy: 0.8406 - val_loss: 0.5708 - val_accuracy: 0.7727\n",
            "Epoch 21/60\n",
            "13/13 [==============================] - 4s 337ms/step - loss: 0.3517 - accuracy: 0.8309 - val_loss: 0.4492 - val_accuracy: 0.8636\n",
            "Epoch 22/60\n",
            "13/13 [==============================] - 4s 337ms/step - loss: 0.3796 - accuracy: 0.8406 - val_loss: 0.4534 - val_accuracy: 0.7727\n",
            "Epoch 23/60\n",
            "13/13 [==============================] - 4s 337ms/step - loss: 0.3366 - accuracy: 0.8261 - val_loss: 0.6578 - val_accuracy: 0.7273\n",
            "Epoch 24/60\n",
            "13/13 [==============================] - 4s 340ms/step - loss: 0.3607 - accuracy: 0.8068 - val_loss: 0.5319 - val_accuracy: 0.8182\n",
            "Epoch 25/60\n",
            "13/13 [==============================] - 4s 337ms/step - loss: 0.4137 - accuracy: 0.7729 - val_loss: 0.5462 - val_accuracy: 0.8182\n",
            "Epoch 26/60\n",
            "13/13 [==============================] - 4s 340ms/step - loss: 0.3912 - accuracy: 0.8164 - val_loss: 0.9254 - val_accuracy: 0.7273\n",
            "Epoch 27/60\n",
            "13/13 [==============================] - 4s 337ms/step - loss: 0.3304 - accuracy: 0.8454 - val_loss: 0.5987 - val_accuracy: 0.8182\n",
            "Epoch 28/60\n",
            "13/13 [==============================] - 4s 332ms/step - loss: 0.3165 - accuracy: 0.8647 - val_loss: 0.6617 - val_accuracy: 0.7273\n",
            "Epoch 29/60\n",
            "13/13 [==============================] - 5s 345ms/step - loss: 0.3529 - accuracy: 0.8357 - val_loss: 0.4902 - val_accuracy: 0.7727\n",
            "Epoch 30/60\n",
            "13/13 [==============================] - 4s 339ms/step - loss: 0.3235 - accuracy: 0.8551 - val_loss: 0.3965 - val_accuracy: 0.8182\n",
            "Epoch 31/60\n",
            "13/13 [==============================] - 4s 336ms/step - loss: 0.3643 - accuracy: 0.8019 - val_loss: 0.5057 - val_accuracy: 0.7727\n",
            "Epoch 32/60\n",
            "13/13 [==============================] - 5s 344ms/step - loss: 0.3543 - accuracy: 0.8502 - val_loss: 0.9123 - val_accuracy: 0.7273\n",
            "Epoch 33/60\n",
            "13/13 [==============================] - 5s 342ms/step - loss: 0.3241 - accuracy: 0.8502 - val_loss: 0.4314 - val_accuracy: 0.8636\n",
            "Epoch 34/60\n",
            "13/13 [==============================] - 4s 339ms/step - loss: 0.3855 - accuracy: 0.8309 - val_loss: 0.5207 - val_accuracy: 0.7727\n",
            "Epoch 35/60\n",
            "13/13 [==============================] - 5s 343ms/step - loss: 0.3992 - accuracy: 0.8019 - val_loss: 0.3979 - val_accuracy: 0.7727\n",
            "Epoch 36/60\n",
            "13/13 [==============================] - 4s 336ms/step - loss: 0.4016 - accuracy: 0.7971 - val_loss: 0.3591 - val_accuracy: 0.8182\n",
            "Epoch 37/60\n",
            "13/13 [==============================] - 4s 339ms/step - loss: 0.3070 - accuracy: 0.8551 - val_loss: 0.4314 - val_accuracy: 0.7727\n",
            "Epoch 38/60\n",
            "13/13 [==============================] - 6s 427ms/step - loss: 0.3446 - accuracy: 0.8357 - val_loss: 0.3161 - val_accuracy: 0.9545\n",
            "Epoch 39/60\n",
            "13/13 [==============================] - 4s 337ms/step - loss: 0.3661 - accuracy: 0.8454 - val_loss: 0.5437 - val_accuracy: 0.7727\n",
            "Epoch 40/60\n",
            "13/13 [==============================] - 4s 338ms/step - loss: 0.3655 - accuracy: 0.7971 - val_loss: 0.5967 - val_accuracy: 0.8182\n",
            "Epoch 41/60\n",
            "13/13 [==============================] - 4s 336ms/step - loss: 0.3856 - accuracy: 0.8116 - val_loss: 0.5884 - val_accuracy: 0.5909\n",
            "Epoch 42/60\n",
            "13/13 [==============================] - 4s 336ms/step - loss: 0.3357 - accuracy: 0.8599 - val_loss: 0.5689 - val_accuracy: 0.7273\n",
            "Epoch 43/60\n",
            "13/13 [==============================] - 4s 340ms/step - loss: 0.4106 - accuracy: 0.7923 - val_loss: 0.3875 - val_accuracy: 0.8636\n",
            "Epoch 44/60\n",
            "13/13 [==============================] - 4s 333ms/step - loss: 0.3797 - accuracy: 0.8164 - val_loss: 0.6171 - val_accuracy: 0.8182\n",
            "Epoch 45/60\n",
            "13/13 [==============================] - 4s 338ms/step - loss: 0.3257 - accuracy: 0.8744 - val_loss: 0.4899 - val_accuracy: 0.7727\n",
            "Epoch 46/60\n",
            "13/13 [==============================] - 4s 337ms/step - loss: 0.3118 - accuracy: 0.8454 - val_loss: 0.7225 - val_accuracy: 0.6818\n",
            "Epoch 47/60\n",
            "13/13 [==============================] - 4s 338ms/step - loss: 0.3941 - accuracy: 0.8502 - val_loss: 0.5484 - val_accuracy: 0.8182\n",
            "Epoch 48/60\n",
            "13/13 [==============================] - 4s 338ms/step - loss: 0.3449 - accuracy: 0.8647 - val_loss: 0.4973 - val_accuracy: 0.8182\n",
            "Epoch 49/60\n",
            "13/13 [==============================] - 4s 339ms/step - loss: 0.3812 - accuracy: 0.8357 - val_loss: 0.4202 - val_accuracy: 0.7273\n",
            "Epoch 50/60\n",
            "13/13 [==============================] - 4s 337ms/step - loss: 0.3195 - accuracy: 0.8792 - val_loss: 0.6668 - val_accuracy: 0.7273\n",
            "Epoch 51/60\n",
            "13/13 [==============================] - 4s 341ms/step - loss: 0.3297 - accuracy: 0.8647 - val_loss: 0.3789 - val_accuracy: 0.8636\n",
            "Epoch 52/60\n",
            "13/13 [==============================] - 4s 340ms/step - loss: 0.3358 - accuracy: 0.8406 - val_loss: 0.3674 - val_accuracy: 0.8182\n",
            "Epoch 53/60\n",
            "13/13 [==============================] - 4s 332ms/step - loss: 0.4579 - accuracy: 0.7923 - val_loss: 0.3760 - val_accuracy: 0.8182\n",
            "Epoch 54/60\n",
            "13/13 [==============================] - 4s 339ms/step - loss: 0.3544 - accuracy: 0.8454 - val_loss: 0.4607 - val_accuracy: 0.7727\n",
            "Epoch 55/60\n",
            "13/13 [==============================] - 4s 338ms/step - loss: 0.3854 - accuracy: 0.8357 - val_loss: 0.4336 - val_accuracy: 0.8636\n",
            "Epoch 56/60\n",
            "13/13 [==============================] - 4s 335ms/step - loss: 0.3115 - accuracy: 0.8502 - val_loss: 0.4551 - val_accuracy: 0.8182\n",
            "Epoch 57/60\n",
            "13/13 [==============================] - 4s 334ms/step - loss: 0.3497 - accuracy: 0.8792 - val_loss: 0.4542 - val_accuracy: 0.7727\n",
            "Epoch 58/60\n",
            "13/13 [==============================] - 4s 341ms/step - loss: 0.3685 - accuracy: 0.8502 - val_loss: 0.3533 - val_accuracy: 0.9545\n",
            "Epoch 59/60\n",
            "13/13 [==============================] - 4s 338ms/step - loss: 0.3386 - accuracy: 0.8696 - val_loss: 0.5612 - val_accuracy: 0.7273\n",
            "Epoch 60/60\n",
            "13/13 [==============================] - 4s 342ms/step - loss: 0.3420 - accuracy: 0.8502 - val_loss: 0.5280 - val_accuracy: 0.7727\n"
          ]
        },
        {
          "output_type": "execute_result",
          "data": {
            "text/plain": [
              "<tensorflow.python.training.tracking.util.CheckpointLoadStatus at 0x7f2eacfe1110>"
            ]
          },
          "metadata": {},
          "execution_count": 28
        }
      ]
    },
    {
      "cell_type": "code",
      "execution_count": null,
      "metadata": {
        "colab": {
          "base_uri": "https://localhost:8080/"
        },
        "id": "Dns0goA8GMlI",
        "outputId": "ad35fe7c-a492-42c5-f7c0-b2c6d485ef48"
      },
      "outputs": [
        {
          "output_type": "stream",
          "name": "stdout",
          "text": [
            "1/1 [==============================] - 0s 203ms/step - loss: 0.3339 - accuracy: 0.8750\n"
          ]
        }
      ],
      "source": [
        "# Определение процента распознования на тестовых данных \n",
        "scores = model.evaluate(test_generator)"
      ]
    },
    {
      "cell_type": "code",
      "execution_count": null,
      "metadata": {
        "colab": {
          "base_uri": "https://localhost:8080/"
        },
        "id": "m2yK8dcaTRX1",
        "outputId": "42d3a384-8970-4809-da23-de88224f280c"
      },
      "outputs": [
        {
          "output_type": "stream",
          "name": "stdout",
          "text": [
            "Процент верных ответов на тестовых данных: 88.0 %\n"
          ]
        }
      ],
      "source": [
        "print('Процент верных ответов на тестовых данных:', round(scores[1],2) * 100, '%')"
      ]
    },
    {
      "cell_type": "code",
      "execution_count": null,
      "metadata": {
        "colab": {
          "base_uri": "https://localhost:8080/",
          "height": 279
        },
        "id": "sxpmbqWjrNbg",
        "outputId": "1bde61ea-12fb-429b-ec49-378568586ce7"
      },
      "outputs": [
        {
          "output_type": "display_data",
          "data": {
            "text/plain": [
              "<Figure size 432x288 with 1 Axes>"
            ],
            "image/png": "[encoded data removed]"
          },
          "metadata": {
            "needs_background": "light"
          }
        }
      ],
      "source": [
        "# Визуализация процесса обучения\n",
        "plt.plot(history.history['accuracy'], \n",
        "                  label='Доля верных ответов на обучающей выобрке')\n",
        "plt.plot(history.history['val_accuracy'], \n",
        "                  label='Доля верных ответов на проверочной выборке')\n",
        "plt.xlabel('Эпоха обучения')\n",
        "plt.ylabel('Доля верных ответов')\n",
        "plt.legend()\n",
        "plt.show()"
      ]
    },
    {
      "cell_type": "code",
      "execution_count": null,
      "metadata": {
        "colab": {
          "base_uri": "https://localhost:8080/",
          "height": 279
        },
        "id": "O6yhTpNar7C3",
        "outputId": "ce6d9da3-af1b-4fad-b451-5673a5256386"
      },
      "outputs": [
        {
          "output_type": "display_data",
          "data": {
            "text/plain": [
              "<Figure size 432x288 with 1 Axes>"
            ],
            "image/png": "[encoded data removed]"
          },
          "metadata": {
            "needs_background": "light"
          }
        }
      ],
      "source": [
        "# Визуализация ошибки на данных\n",
        "plt.plot(history.history['loss'], \n",
        "         label='Ошибка на обучающем наборе')\n",
        "plt.plot(history.history['val_loss'], \n",
        "         label='Ошибка на проверочном наборе')\n",
        "plt.xlabel('Эпоха обучения')\n",
        "plt.ylabel('Ошибка')\n",
        "plt.legend()\n",
        "plt.show()"
      ]
    },
    {
      "cell_type": "code",
      "execution_count": null,
      "metadata": {
        "id": "acFrFhfWsCjJ"
      },
      "outputs": [],
      "source": [
        "# Сохранение модели\n",
        "model.save('drive/MyDrive/model/Project/models.h5')"
      ]
    },
    {
      "cell_type": "markdown",
      "source": [
        "## Проверка результатов модели с 91%"
      ],
      "metadata": {
        "id": "_UXcUQmB0IO9"
      }
    },
    {
      "cell_type": "markdown",
      "source": [
        "Обучение с использованием keras tuner происходило не в этом ноутбуке, модель была загружена на гугл диск с результатом 91%.  Здесть проверятеся процент распознования на тестовых данных."
      ],
      "metadata": {
        "id": "JSzpy5x-0P29"
      }
    },
    {
      "cell_type": "code",
      "source": [
        "from tensorflow.keras.models import load_model\n",
        "\n",
        "model_1 = load_model('drive/MyDrive/model/Project/models_M.h5')\n",
        "\n",
        "scores = model_1.evaluate(test_generator)"
      ],
      "metadata": {
        "colab": {
          "base_uri": "https://localhost:8080/"
        },
        "id": "gqpQiizTHQgB",
        "outputId": "0ee09b1c-2fe8-4b1e-f85a-e0478561c7d8"
      },
      "execution_count": null,
      "outputs": [
        {
          "output_type": "stream",
          "name": "stdout",
          "text": [
            "1/1 [==============================] - 0s 339ms/step - loss: 0.3754 - accuracy: 0.8750\n"
          ]
        }
      ]
    },
    {
      "cell_type": "markdown",
      "source": [
        "## Обучение на готовой архитектуре VGG16"
      ],
      "metadata": {
        "id": "7kpfq2lhvmpv"
      }
    },
    {
      "cell_type": "code",
      "source": [
        "# Основные переменные\n",
        "data_dir = '/content/train/' \n",
        "batch_size= 16\n",
        "image_size= (64, 64)\n",
        "\n",
        "initial_epochs = 30\n",
        "base_learning_rate = 0.00001"
      ],
      "metadata": {
        "id": "oTGD66ZaYdDj"
      },
      "execution_count": null,
      "outputs": []
    },
    {
      "cell_type": "code",
      "source": [
        "# Распределение данных на тренировочные и валидационные \n",
        "train_ds = tf.keras.preprocessing.image_dataset_from_directory(\n",
        "  data_dir,\n",
        "  validation_split=0.2,    # Устанавливаем разделение на обучающую и проверочную выборки\n",
        "  subset=\"training\",       # Эта выборка обучающая\n",
        "  seed=123,                # закрепляем рандом для сравнения сетей\n",
        "  image_size= image_size,\n",
        "  batch_size= batch_size)\n",
        "\n",
        "val_ds = tf.keras.preprocessing.image_dataset_from_directory(\n",
        "  data_dir,\n",
        "  validation_split=0.2,\n",
        "  subset=\"validation\",     # Эта выборка проверочная\n",
        "  seed=123,\n",
        "  image_size= image_size,\n",
        "  batch_size= batch_size)"
      ],
      "metadata": {
        "colab": {
          "base_uri": "https://localhost:8080/"
        },
        "id": "jqDLzW_pYkul",
        "outputId": "4b6a68f3-a6b6-4b72-9ea1-3bdb4a8e5c42"
      },
      "execution_count": null,
      "outputs": [
        {
          "output_type": "stream",
          "name": "stdout",
          "text": [
            "Found 253 files belonging to 2 classes.\n",
            "Using 203 files for training.\n",
            "Found 253 files belonging to 2 classes.\n",
            "Using 50 files for validation.\n"
          ]
        }
      ]
    },
    {
      "cell_type": "code",
      "source": [
        "# Определяем имена классов\n",
        "class_names = train_ds.class_names \n",
        "print(class_names)"
      ],
      "metadata": {
        "colab": {
          "base_uri": "https://localhost:8080/"
        },
        "id": "ZjyA3AoKYlwA",
        "outputId": "3721004f-2eb6-46d5-e035-9bbfea6a5b81"
      },
      "execution_count": null,
      "outputs": [
        {
          "output_type": "stream",
          "name": "stdout",
          "text": [
            "['no', 'yes']\n"
          ]
        }
      ]
    },
    {
      "cell_type": "code",
      "source": [
        "# Предварительная подгрузка датасета для ускорения и стабилизации\n",
        "AUTOTUNE = tf.data.AUTOTUNE    \n",
        "\n",
        "train_ds = train_ds.cache().prefetch(buffer_size=AUTOTUNE) \n",
        "val_ds = val_ds.cache().prefetch(buffer_size=AUTOTUNE)"
      ],
      "metadata": {
        "id": "KYoCjfFEZP_i"
      },
      "execution_count": null,
      "outputs": []
    },
    {
      "cell_type": "code",
      "source": [
        "data_augmentation = tf.keras.Sequential([\n",
        "  tf.keras.layers.experimental.preprocessing.RandomZoom((-0.05,0.05)), # произвольное увеличение и уменьшение на 10%\n",
        "  tf.keras.layers.experimental.preprocessing.RandomContrast(0.15)]) "
      ],
      "metadata": {
        "id": "R2XXmDPQZTb0"
      },
      "execution_count": null,
      "outputs": []
    },
    {
      "cell_type": "code",
      "source": [
        "import gc\n",
        "# Слой подготовки данных (у каждой модели свой)\n",
        "preprocess_input = tf.keras.applications.vgg16.preprocess_input\n",
        "gc.collect()\n",
        "\n",
        "# Создание модели\n",
        "image_shape = image_size + (3,)\n",
        "base_model = tf.keras.applications.vgg16.VGG16(input_shape=image_shape,\n",
        "                         include_top=False,\n",
        "                         weights='imagenet')\n",
        "\n",
        "# base_model.summary()\n",
        "global_average_layer = tf.keras.layers.GlobalAveragePooling2D() # Глобал пулинг\n",
        "prediction_layer = tf.keras.layers.Dense(len(class_names), activation='softmax') # По количеству классов\n",
        "\n",
        "# собираем полную модель \n",
        "inputs = tf.keras.Input(shape=(image_shape))\n",
        "x = data_augmentation(inputs)\n",
        "x = preprocess_input(x)\n",
        "x = base_model(x, training=False)\n",
        "x = global_average_layer(x)\n",
        "x = tf.keras.layers.Dropout(0.2)(x)\n",
        "outputs = prediction_layer(x)\n",
        "model = tf.keras.Model(inputs, outputs)"
      ],
      "metadata": {
        "id": "4kOgAtnaZVwZ"
      },
      "execution_count": null,
      "outputs": []
    },
    {
      "cell_type": "code",
      "source": [
        "# Сборка модели\n",
        "base_learning_rate = 0.00001\n",
        "model.compile(optimizer=tf.keras.optimizers.Adam(learning_rate= base_learning_rate),\n",
        "              loss=tf.keras.losses.SparseCategoricalCrossentropy(from_logits=False),\n",
        "              metrics=['accuracy'])"
      ],
      "metadata": {
        "id": "P6Y-ReObZgj5"
      },
      "execution_count": null,
      "outputs": []
    },
    {
      "cell_type": "code",
      "source": [
        "# Функция ранней остановки обучения, когда ошибка на валидационных данных перестанет уменьшатся \n",
        "early_stop = keras.callbacks.EarlyStopping(monitor='val_loss', patience=3)"
      ],
      "metadata": {
        "id": "X3Q0lbbYbuVX"
      },
      "execution_count": null,
      "outputs": []
    },
    {
      "cell_type": "code",
      "source": [
        "# Обучение модели\n",
        "hVGG16 = model.fit(train_ds,\n",
        "                    epochs=initial_epochs,\n",
        "                    validation_data=val_ds,\n",
        "                   callbacks=[early_stop])"
      ],
      "metadata": {
        "colab": {
          "base_uri": "https://localhost:8080/"
        },
        "id": "fAMcdatSZnCu",
        "outputId": "734207f5-e0ab-48c4-87ec-2959bd8935c8"
      },
      "execution_count": null,
      "outputs": [
        {
          "output_type": "stream",
          "name": "stdout",
          "text": [
            "Epoch 1/30\n",
            "13/13 [==============================] - 44s 3s/step - loss: 2.4443 - accuracy: 0.5567 - val_loss: 0.4798 - val_accuracy: 0.7800\n",
            "Epoch 2/30\n",
            "13/13 [==============================] - 41s 3s/step - loss: 0.4694 - accuracy: 0.7833 - val_loss: 0.4221 - val_accuracy: 0.8200\n",
            "Epoch 3/30\n",
            "13/13 [==============================] - 44s 3s/step - loss: 0.3187 - accuracy: 0.8374 - val_loss: 0.3672 - val_accuracy: 0.8000\n",
            "Epoch 4/30\n",
            "13/13 [==============================] - 42s 3s/step - loss: 0.2772 - accuracy: 0.8768 - val_loss: 0.2952 - val_accuracy: 0.9000\n",
            "Epoch 5/30\n",
            "13/13 [==============================] - 56s 4s/step - loss: 0.2030 - accuracy: 0.9458 - val_loss: 0.2687 - val_accuracy: 0.9000\n",
            "Epoch 6/30\n",
            "13/13 [==============================] - 48s 4s/step - loss: 0.1757 - accuracy: 0.9310 - val_loss: 0.2439 - val_accuracy: 0.8800\n",
            "Epoch 7/30\n",
            "13/13 [==============================] - 41s 3s/step - loss: 0.1068 - accuracy: 0.9655 - val_loss: 0.2649 - val_accuracy: 0.9200\n",
            "Epoch 8/30\n",
            "13/13 [==============================] - 43s 3s/step - loss: 0.1311 - accuracy: 0.9557 - val_loss: 0.2364 - val_accuracy: 0.9200\n",
            "Epoch 9/30\n",
            "13/13 [==============================] - 41s 3s/step - loss: 0.0908 - accuracy: 0.9852 - val_loss: 0.1896 - val_accuracy: 0.9200\n",
            "Epoch 10/30\n",
            "13/13 [==============================] - 49s 4s/step - loss: 0.0750 - accuracy: 0.9754 - val_loss: 0.1944 - val_accuracy: 0.9000\n",
            "Epoch 11/30\n",
            "13/13 [==============================] - 41s 3s/step - loss: 0.0652 - accuracy: 0.9655 - val_loss: 0.2948 - val_accuracy: 0.9200\n",
            "Epoch 12/30\n",
            "13/13 [==============================] - 40s 3s/step - loss: 0.0768 - accuracy: 0.9655 - val_loss: 0.2456 - val_accuracy: 0.9000\n",
            "Epoch 13/30\n",
            "13/13 [==============================] - 40s 3s/step - loss: 0.0636 - accuracy: 0.9754 - val_loss: 0.2148 - val_accuracy: 0.9200\n",
            "Epoch 14/30\n",
            "13/13 [==============================] - 41s 3s/step - loss: 0.0531 - accuracy: 0.9803 - val_loss: 0.2806 - val_accuracy: 0.9000\n",
            "Epoch 15/30\n",
            "13/13 [==============================] - 41s 3s/step - loss: 0.0617 - accuracy: 0.9852 - val_loss: 0.2215 - val_accuracy: 0.9200\n",
            "Epoch 16/30\n",
            "13/13 [==============================] - 40s 3s/step - loss: 0.0546 - accuracy: 0.9852 - val_loss: 0.1835 - val_accuracy: 0.9400\n",
            "Epoch 17/30\n",
            "13/13 [==============================] - 41s 3s/step - loss: 0.0513 - accuracy: 0.9852 - val_loss: 0.3423 - val_accuracy: 0.9200\n",
            "Epoch 18/30\n",
            "13/13 [==============================] - 41s 3s/step - loss: 0.0330 - accuracy: 0.9951 - val_loss: 0.3532 - val_accuracy: 0.9200\n",
            "Epoch 19/30\n",
            "13/13 [==============================] - 41s 3s/step - loss: 0.0202 - accuracy: 0.9951 - val_loss: 0.3195 - val_accuracy: 0.9400\n",
            "Epoch 20/30\n",
            "13/13 [==============================] - 41s 3s/step - loss: 0.0190 - accuracy: 1.0000 - val_loss: 0.3340 - val_accuracy: 0.9200\n",
            "Epoch 21/30\n",
            "13/13 [==============================] - 42s 3s/step - loss: 0.0080 - accuracy: 1.0000 - val_loss: 0.3415 - val_accuracy: 0.9200\n",
            "Epoch 22/30\n",
            "13/13 [==============================] - 42s 3s/step - loss: 0.0133 - accuracy: 0.9951 - val_loss: 0.3482 - val_accuracy: 0.9200\n",
            "Epoch 23/30\n",
            "13/13 [==============================] - 41s 3s/step - loss: 0.0199 - accuracy: 0.9951 - val_loss: 0.2766 - val_accuracy: 0.9400\n",
            "Epoch 24/30\n",
            "13/13 [==============================] - 41s 3s/step - loss: 0.0118 - accuracy: 0.9951 - val_loss: 0.3071 - val_accuracy: 0.9000\n",
            "Epoch 25/30\n",
            "13/13 [==============================] - 41s 3s/step - loss: 0.0199 - accuracy: 0.9951 - val_loss: 0.2606 - val_accuracy: 0.9400\n",
            "Epoch 26/30\n",
            "13/13 [==============================] - 41s 3s/step - loss: 0.0060 - accuracy: 1.0000 - val_loss: 0.3533 - val_accuracy: 0.9000\n",
            "Epoch 27/30\n",
            "13/13 [==============================] - 41s 3s/step - loss: 0.0168 - accuracy: 0.9901 - val_loss: 0.2798 - val_accuracy: 0.9400\n",
            "Epoch 28/30\n",
            "13/13 [==============================] - 41s 3s/step - loss: 0.0209 - accuracy: 0.9901 - val_loss: 0.2926 - val_accuracy: 0.9400\n",
            "Epoch 29/30\n",
            "13/13 [==============================] - 41s 3s/step - loss: 0.0098 - accuracy: 0.9951 - val_loss: 0.4437 - val_accuracy: 0.8800\n",
            "Epoch 30/30\n",
            "13/13 [==============================] - 41s 3s/step - loss: 0.0122 - accuracy: 1.0000 - val_loss: 0.3474 - val_accuracy: 0.9400\n"
          ]
        }
      ]
    },
    {
      "cell_type": "code",
      "source": [
        "# Проверка на тестовых данных\n",
        "scores = hVGG16.evelute(t)"
      ],
      "metadata": {
        "id": "OPogORYiZnJw"
      },
      "execution_count": null,
      "outputs": []
    },
    {
      "cell_type": "markdown",
      "metadata": {
        "id": "66OwvNSvsdQF"
      },
      "source": [
        "# Создание скрипта для интеграции в систему \n"
      ]
    },
    {
      "cell_type": "code",
      "source": [
        "# Подлкючение к гугл диску для загрузки модели\n",
        "\n",
        "from google.colab import drive   \n",
        "drive.mount('/content/drive')"
      ],
      "metadata": {
        "colab": {
          "base_uri": "https://localhost:8080/"
        },
        "id": "MOKxy7NYXpBi",
        "outputId": "4b8dd5de-a329-43e9-8ed0-953b9696f997"
      },
      "execution_count": null,
      "outputs": [
        {
          "output_type": "stream",
          "name": "stdout",
          "text": [
            "Drive already mounted at /content/drive; to attempt to forcibly remount, call drive.mount(\"/content/drive\", force_remount=True).\n"
          ]
        }
      ]
    },
    {
      "cell_type": "code",
      "execution_count": null,
      "metadata": {
        "id": "srCvCzA0OjZn"
      },
      "outputs": [],
      "source": [
        "# Скрипт для обрабокти и вывода результата нейронной сети\n",
        "\n",
        "from tensorflow.keras.models import load_model\n",
        "from PIL import Image\n",
        "import numpy as np\n",
        "\n",
        "def prediction(img_path='train/no/1 no.jpeg', model_path='models_MRI.h5'):\n",
        "\n",
        "  name_pred = ['no', 'yes']\n",
        "\n",
        "  img_width, img_height = 64, 64\n",
        "\n",
        "  model = load_model(model_path)\n",
        "  img = Image.open(img_path).resize((img_width, img_height))\n",
        "  image = np.array(img, 'float64') / 255.\n",
        "\n",
        "  image = np.expand_dims(image, axis=0)\n",
        "  predd = model.predict(image)\n",
        "  pred = np.argmax(predd)\n",
        "  print(predd)\n",
        "  print(f'Вероятоность {round(predd[0][1], 2) * 100}%')\n",
        "  print(name_pred[pred])\n"
      ]
    },
    {
      "cell_type": "code",
      "execution_count": null,
      "metadata": {
        "colab": {
          "base_uri": "https://localhost:8080/"
        },
        "id": "JhabmoS-OmE1",
        "outputId": "10efe2a1-b07c-458d-9a45-e6a5e6e57944"
      },
      "outputs": [
        {
          "output_type": "stream",
          "name": "stdout",
          "text": [
            "[[0.3189975 0.6810025]]\n",
            "Вероятоность 68.00000071525574%\n",
            "yes\n"
          ]
        }
      ],
      "source": [
        "prediction(img_path='drive/MyDrive/8neyro.jpg', model_path='drive/MyDrive/model/Project/models_MRI_83%.h5')"
      ]
    }
  ],
  "metadata": {
    "colab": {
      "collapsed_sections": [],
      "name": "BraimMRI.ipynb",
      "provenance": [],
      "authorship_tag": "ABX9TyPcoxjP9gnZiWg6NyyCGP+s",
      "include_colab_link": true
    },
    "kernelspec": {
      "display_name": "Python 3",
      "name": "python3"
    },
    "language_info": {
      "name": "python"
    }
  },
  "nbformat": 4,
  "nbformat_minor": 0
}